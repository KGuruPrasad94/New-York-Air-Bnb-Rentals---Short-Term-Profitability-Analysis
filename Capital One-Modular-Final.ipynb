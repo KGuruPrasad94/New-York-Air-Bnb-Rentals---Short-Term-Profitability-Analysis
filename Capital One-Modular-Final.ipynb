{
 "cells": [
  {
   "cell_type": "markdown",
   "metadata": {},
   "source": [
    "# <center> New York Rentals - Short Term Profitablity Analysis </center>"
   ]
  },
  {
   "cell_type": "markdown",
   "metadata": {},
   "source": [
    "# Introduction\n",
    "\n",
    "The goal of this project is to analyze which zipcodes would be profitable to invest in New York and the scope of the analysis is restricted to 2 bedroom properties for now. I will be using data from Airbnb (Airbnb listings in the New York area) and Zillow (Time Series data of median house prices) for this analysis."
   ]
  },
  {
   "cell_type": "markdown",
   "metadata": {},
   "source": [
    "# Approach:\n",
    "\n"
   ]
  },
  {
   "cell_type": "markdown",
   "metadata": {},
   "source": [
    "# Assumptions made:\n",
    "\n",
    "1. Occupancy rate of 75% for Airbnb rentals.\n",
    "2. The investor will pay for the property in cash (i.e. no mortgage/interest rate will need to be accounted for).\n",
    "3. The time value of money discount rate is 0% (i.e. $1 today is worth the same 100 years from now).\n",
    "4. All properties and all square feet within each locale can be assumed to be homogeneous (i.e. a 1000 square foot property in a locale such as Bronx or Manhattan generates twice the revenue and costs twice as much as any other 500 square foot property within that same locale.)\n",
    "5. Price listed in the Airbnb data is the final price that the customer pays (i.e. No discounts).\n",
    "6. Cleaning fee, Security deposit and costs related to extra beds are not considered for the sake of simplicity.\n",
    "7. Annual Revenue (Rent) is calculated by, Annual Revenue = Price per night * occupancy rate * availability_365. Rent increases by 5% every year\n",
    "8. Investor buys the properties in 6th month of 2017 (2017-06). (i.e. Investment cost = Latest Median list price)\n",
    "9. Only zipcodes with more than 15 listings are considered for analysis. Zipcodes with more than 15 listings are considered to be zipcodes with high demand."
   ]
  },
  {
   "cell_type": "markdown",
   "metadata": {},
   "source": [
    "# Importing necessary packages"
   ]
  },
  {
   "cell_type": "code",
   "execution_count": 1,
   "metadata": {},
   "outputs": [],
   "source": [
    "# import necessary libraries\n",
    "import pandas as pd\n",
    "import numpy as np\n",
    "import matplotlib.pyplot as plt\n",
    "import seaborn as sns\n",
    "from pandas import to_datetime\n",
    "import warnings\n",
    "warnings.filterwarnings('ignore')\n",
    "import os\n",
    "import glob\n",
    "from fbprophet import Prophet"
   ]
  },
  {
   "cell_type": "markdown",
   "metadata": {},
   "source": [
    "# Functions used for the Analysis"
   ]
  },
  {
   "cell_type": "code",
   "execution_count": 2,
   "metadata": {},
   "outputs": [],
   "source": [
    "\"\"\" \n",
    "function to merge Airbnb listings data from a local directory\n",
    "\n",
    "Input Parameters:\n",
    "1. path - local path of the listings data\n",
    "2. fp - variable to hold the pattern of the filename to be read\n",
    "\n",
    "Output:\n",
    "Returns a dataframe\n",
    "\"\"\"\n",
    "\n",
    "def merge_files_wo_header(path, fp):\n",
    "            \n",
    "    all_files = glob.glob(os.path.join(path, fp))     # os.path.join makes the concatenation OS independent\n",
    "\n",
    "    df_from_each_file = (pd.read_csv(f,header=None) for f in all_files) # loop through all files in the local directory\n",
    "    concatenated_df   = pd.concat(df_from_each_file) # concatenating all the files\n",
    "\n",
    "    return concatenated_df"
   ]
  },
  {
   "cell_type": "code",
   "execution_count": 3,
   "metadata": {},
   "outputs": [],
   "source": [
    "\"\"\" \n",
    "function to make the first row of the dataframe as a header and resetting the index\n",
    "\n",
    "Input Parameters:\n",
    "Dataframe to be formatted\n",
    "\n",
    "Output:\n",
    "Returns the formatted dataframe\n",
    "\"\"\"\n",
    "\n",
    "def make_df_firstrow_header(df): \n",
    "    df = df.rename(columns=df.iloc[0]).drop(df.index[0]) # makes the first row of df as header\n",
    "    df.reset_index(inplace=True,drop=True)\n",
    "    \n",
    "    return df"
   ]
  },
  {
   "cell_type": "code",
   "execution_count": 4,
   "metadata": {},
   "outputs": [],
   "source": [
    "\"\"\" \n",
    "function to filter airbnb data\n",
    "\n",
    "Input Parameters:\n",
    "1. df - Dataframe to be filtered\n",
    "2. state - list of states to be filtered\n",
    "3. bedrooms - list of bedrooms to be filtered\n",
    "\n",
    "Output:\n",
    "Returns the filtered dataframe\n",
    "\"\"\"\n",
    "\n",
    "\n",
    "def filter_airbnb_data(df,state,bedrooms):\n",
    "    \n",
    "    df = df[df['state'].isin(state)] # filters the df based on state\n",
    "    df = df[df['bedrooms'].isin(bedrooms)] # filters the df based on bedrooms\n",
    "    df.reset_index(inplace=True,drop=True)\n",
    "    \n",
    "    return df"
   ]
  },
  {
   "cell_type": "code",
   "execution_count": 5,
   "metadata": {},
   "outputs": [],
   "source": [
    "\"\"\" \n",
    "function to remove text columns \n",
    "\n",
    "Input Parameters:\n",
    "1. df - Dataframe to be filtered\n",
    "2. length - threshold length for removing columns based on the length of values in a column \n",
    "\n",
    "Output:\n",
    "Returns the filtered dataframe\n",
    "\"\"\"\n",
    "\n",
    "def remove_text_columns(df,length):\n",
    "    \n",
    "    \"\"\"\n",
    "    for loop to loop through all the columns in the dataset and drop the column \n",
    "    if the length of the value in column greater than threshold value\n",
    "    \"\"\"\n",
    "    \n",
    "    for col in df.columns:\n",
    "        if (type(df[col][0]) is str) and (len(df[col][0]) > length):\n",
    "            df.drop(col,inplace=True, axis=1)\n",
    "    \n",
    "    return df"
   ]
  },
  {
   "cell_type": "code",
   "execution_count": 6,
   "metadata": {},
   "outputs": [],
   "source": [
    "\"\"\" \n",
    "function to remove columns with specific column names or patterns in column names\n",
    "\n",
    "Input Parameters:\n",
    "1. df - Dataframe to be filtered\n",
    "2. patterns - list which holds the patterns to be removed\n",
    "\n",
    "Output:\n",
    "Returns the filtered dataframe\n",
    "\"\"\"\n",
    "\n",
    "def remove_columns_w_patterns(df,patterns):\n",
    "    \n",
    "    \"\"\"\n",
    "    for loop to loop through all the columns in the dataset and drop the column \n",
    "    if the column name contains a specific pattern \n",
    "    \"\"\"\n",
    "    for val in patterns:\n",
    "        df.drop(df.filter(regex=val).columns, axis=1, inplace=True)\n",
    "    \n",
    "    return df"
   ]
  },
  {
   "cell_type": "code",
   "execution_count": 7,
   "metadata": {},
   "outputs": [],
   "source": [
    "\"\"\" \n",
    "function to remove columns with high percentage of null values \n",
    "\n",
    "Input Parameters:\n",
    "1. df - Dataframe to be filtered\n",
    "2. perc - threshold percentage for removing columns based on the length of values in a column \n",
    "\n",
    "Output:\n",
    "Returns the filtered dataframe\n",
    "\"\"\"\n",
    "\n",
    "def remove_null_columns(df,perc):\n",
    "    min_count =  int((len(df) * perc)/100) # computes the number of null values allowed in a column based on the given percentage\n",
    "    df.dropna(axis=1, thresh=min_count,inplace=True)\n",
    "    \n",
    "    return df"
   ]
  },
  {
   "cell_type": "code",
   "execution_count": 8,
   "metadata": {},
   "outputs": [],
   "source": [
    "\"\"\" \n",
    "function to filter Zillow data\n",
    "\n",
    "Input Parameters:\n",
    "1. df - Dataframe to be filtered\n",
    "2. state - list of states to be filtered\n",
    "3. cols - list of columns to be filtered\n",
    "\n",
    "Output:\n",
    "Returns the filtered dataframe\n",
    "\"\"\"\n",
    "\n",
    "def filter_zillow_data(df,state,cols):\n",
    "    \n",
    "    df = df[df['State'].isin(state)] # filters df based on state\n",
    "    df = df.drop(columns=cols) # drops the columns from df based on user passed argument\n",
    "    df = df.dropna(axis=1)\n",
    "    df.rename(columns={'RegionName': 'zipcode'}, inplace=True)\n",
    "    df.zipcode = df.zipcode.astype(str)\n",
    "    df.reset_index(inplace=True,drop=True)\n",
    "    \n",
    "    return df"
   ]
  },
  {
   "cell_type": "code",
   "execution_count": 9,
   "metadata": {},
   "outputs": [],
   "source": [
    "\"\"\" \n",
    "function to join 2 dataframes\n",
    "\n",
    "Input Parameters:\n",
    "1. df1 - Dataframe 1 to be joined\n",
    "2. df2 - Dataframe 2 to be joined\n",
    "3. join_type - contains a string on the type of join desired\n",
    "4. join_on - contains a string on which column the join to be performed\n",
    "\n",
    "Output:\n",
    "Returns the joined dataframe\n",
    "\"\"\"\n",
    "def join_zillow_airbnb(df1,df2,join_type,join_on):\n",
    "    \n",
    "    df_join = pd.merge(df1, df2, how = join_type, on = join_on)\n",
    "    return df_join"
   ]
  },
  {
   "cell_type": "code",
   "execution_count": 10,
   "metadata": {},
   "outputs": [],
   "source": [
    "\"\"\" \n",
    "function to convert data from wide format to long format\n",
    "\n",
    "Input Parameters:\n",
    "1. df - Dataframe to be converted\n",
    "2. ziplist = contains a list of columns to be converted to long format\n",
    "\n",
    "Output:\n",
    "Returns the transformed dataframe\n",
    "\"\"\"\n",
    "def zillow_transpose_long(df,ziplist):\n",
    "    \n",
    "     # convert the dataframe to long format\n",
    "    df_t = df.T\n",
    "    df_t.rename(columns=df.iloc[0], inplace = True)\n",
    "    df_t.drop(['State'], inplace = True)\n",
    "    df_t.reset_index(level=0, inplace=True)\n",
    "    \n",
    "    # function call to format the dataframe\n",
    "    df_t = make_df_firstrow_header(df_t) \n",
    "    \n",
    "    # for loop to filter the transposed dataframe based on the user passed list argument\n",
    "    for val in df_t.columns.tolist():\n",
    "        if val not in ziplist and val!='zipcode':\n",
    "            df_t.drop(columns=val, axis=1, inplace=True)\n",
    "    \n",
    "    df_t.rename(columns={'zipcode': 'Time'}, inplace=True)\n",
    "    \n",
    "    return df_t"
   ]
  },
  {
   "cell_type": "code",
   "execution_count": 11,
   "metadata": {},
   "outputs": [],
   "source": [
    "\"\"\" \n",
    "function to predict the future median house price\n",
    "\n",
    "Input Parameters:\n",
    "1. ztl - Dataframe to be converted\n",
    "2. future = contains a list of values of future time periods\n",
    "\n",
    "Output:\n",
    "Returns the transformed dataframe with forecasted values\n",
    "\"\"\"\n",
    "def timeseries_forecast(ztl,future):\n",
    "    \n",
    "    # converting the dataframe to the required format to use the prophet algorithm\n",
    "    df = pd.DataFrame()\n",
    "    df['ds'] = ztl['Time']\n",
    "    df['ds']= to_datetime(df['ds']) # converting the column to datetime format\n",
    "    ztl = ztl.drop(columns='Time')\n",
    "    final = pd.DataFrame()\n",
    "    \n",
    "    # for loop to loop through all the zipcodes in the dataframe and forecast future median house price\n",
    "    for val in ztl.columns.tolist():\n",
    "        df['y'] = ztl[val]\n",
    "        \n",
    "        # define the model\n",
    "        model = Prophet()\n",
    "        # fit the model\n",
    "        model.fit(df)\n",
    "        \n",
    "        future = pd.DataFrame(future)\n",
    "        future.columns = ['ds']\n",
    "        future['ds']= to_datetime(future['ds'])\n",
    "        \n",
    "        # use the model to make a forecast\n",
    "        forecast = model.predict(future)\n",
    "        \n",
    "        forecast['ds'] = forecast['ds'].dt.strftime('%Y-%m') # converting the datetime format to the required format\n",
    "        forecast_zip = forecast[['ds','yhat']]\n",
    "        forecast_zip = forecast_zip.T # converting the long format dataframe to wide format\n",
    "        \n",
    "        forecast_zip = make_df_firstrow_header(forecast_zip) # function call\n",
    "        \n",
    "        final = final.append(forecast_zip) # append the forecasted prices for each zipcode\n",
    "    \n",
    "    final['zipcode'] = ztl.columns.tolist()\n",
    "    return final"
   ]
  },
  {
   "cell_type": "code",
   "execution_count": 12,
   "metadata": {},
   "outputs": [],
   "source": [
    "\"\"\" \n",
    "function to predict the breakeven period for each zipcode\n",
    "\n",
    "Input Parameters:\n",
    "1. forecast - contains the forecasted dataframe\n",
    "2. listings - contains the listings count for each zipcode\n",
    "3. listings_count - contains a integer threshold value to filter the zipcodes\n",
    "4. price_inc_rate - rate at which annual revenue increases per year\n",
    "\n",
    "Output:\n",
    "Returns the transformed dataframe\n",
    "\"\"\"\n",
    "def breakeven(forecast,listings,listings_count,price_inc_rate):\n",
    "    # group by to get median house price of each zipcode\n",
    "    df = forecast.groupby('zipcode')[['Annual Revenue','Median_price_latest']].median().apply(np.ceil)\n",
    "    df = pd.DataFrame(df1)\n",
    "    df.reset_index(level=0, inplace=True)\n",
    "    \n",
    "    # creating a colum to hold payback period\n",
    "    df['Payback_period'] = 0.0\n",
    "    \n",
    "    # filterting the dataframe based on listings count for each zipcode\n",
    "    listings = listings[listings['count']>listings_count]\n",
    "    \n",
    "    # function call to join listings and groupby dataframes\n",
    "    df = join_zillow_airbnb(df,listings,'inner','zipcode')\n",
    "    \n",
    "    # for loop to itreate through the dataframe\n",
    "    for idx,row in df.iterrows():\n",
    "        rev = df['Annual Revenue'].loc[idx]\n",
    "        mpl = df['Median_price_latest'].loc[idx]\n",
    "\n",
    "        year = 0.0\n",
    "        total_rev = 0\n",
    "        \n",
    "        # while loop to calculate the breakeven period for each zipcode\n",
    "        while(total_rev<=mpl):\n",
    "            rev = rev * (1 + price_inc_rate/100)\n",
    "            total_rev = total_rev + rev\n",
    "            year = year + 1\n",
    "\n",
    "        year = year - ((total_rev-mpl)/rev)\n",
    "\n",
    "        df['Payback_period'].loc[idx] = year\n",
    "        df.Payback_period = df.Payback_period.round(2) # rounds the column to decimal places\n",
    "    \n",
    "    return df"
   ]
  },
  {
   "cell_type": "code",
   "execution_count": 13,
   "metadata": {},
   "outputs": [],
   "source": [
    "\"\"\" \n",
    "function to predict the ROI for each zipcode\n",
    "\n",
    "Input Parameters:\n",
    "1. forecast - contains the forecasted dataframe\n",
    "2. listings - contains the listings count for each zipcode\n",
    "3. listings_count - contains a integer threshold value to filter the zipcodes\n",
    "4. price_inc_rate - rate at which annual revenue increases per year\n",
    "\n",
    "Output:\n",
    "Returns the transformed dataframe\n",
    "\"\"\"\n",
    "def roi(forecast,listings,listings_count,price_inc_rate):\n",
    "    forecast['forecast_5yr'] = forecast['forecast_5yr'].astype(int) # converting the forcasted values to int\n",
    "    \n",
    "    # group by to get median house price, 5 year forecast of each zipcode\n",
    "    df = forecast.groupby('zipcode')[['Annual Revenue','Median_price_latest','forecast_5yr']].median().apply(np.ceil)\n",
    "    df.reset_index(level=0, inplace=True)\n",
    "    \n",
    "    # filterting the dataframe based on listings count for each zipcode\n",
    "    listings = listings[listings['count']>listings_count]\n",
    "    \n",
    "    # for loop to itreate through the dataframe\n",
    "    df = join_zillow_airbnb(df,listings,'inner','zipcode')\n",
    "    \n",
    "    # computing the ROI % for each zipcode\n",
    "    df['ROI'] = (df['forecast_5yr'] + (df['Annual Revenue'] * ((1 + price_inc_rate/100)**5)) - df['Median_price_latest']) *100 / df['Median_price_latest']\n",
    "    df.ROI = df.ROI.round(2) # rounds the column to decimal places\n",
    "    \n",
    "    return df"
   ]
  },
  {
   "cell_type": "code",
   "execution_count": 14,
   "metadata": {},
   "outputs": [],
   "source": [
    "\"\"\" \n",
    "function to annotate scatter plot\n",
    "\n",
    "Input Parameters:\n",
    "1. x - x coordinate\n",
    "2. y - y coordinate\n",
    "3. value - value to be printed\n",
    "4. ax = axis\n",
    "\n",
    "Output:\n",
    "Returns the transformed dataframe\n",
    "\"\"\"\n",
    "\n",
    "def annotate_scatterplot(x, y, val, ax):\n",
    "    a = pd.concat({'x': x, 'y': y, 'val': val}, axis=1)\n",
    "    for i, point in a.iterrows():\n",
    "        ax.text(point['x'], point['y']+1.25, str(point['val']), size='xx-large',ha = 'center')"
   ]
  },
  {
   "cell_type": "markdown",
   "metadata": {},
   "source": [
    "# Importing data"
   ]
  },
  {
   "cell_type": "code",
   "execution_count": 15,
   "metadata": {},
   "outputs": [],
   "source": [
    "path = r'D:\\Sem 4\\Capital One\\DA-master\\DA-master' # Path where the local csv files reside\n",
    "filename_pattern = \"listings*.csv\" # common pattern in your filename\n",
    "\n",
    "Airbnb = merge_files_wo_header(path,filename_pattern) #function call"
   ]
  },
  {
   "cell_type": "code",
   "execution_count": 16,
   "metadata": {},
   "outputs": [
    {
     "data": {
      "text/plain": [
       "(40750, 95)"
      ]
     },
     "execution_count": 16,
     "metadata": {},
     "output_type": "execute_result"
    }
   ],
   "source": [
    "Airbnb = make_df_firstrow_header(Airbnb) #function call\n",
    "Airbnb.shape"
   ]
  },
  {
   "cell_type": "code",
   "execution_count": 17,
   "metadata": {},
   "outputs": [
    {
     "name": "stdout",
     "output_type": "stream",
     "text": [
      "<class 'pandas.core.frame.DataFrame'>\n",
      "RangeIndex: 40750 entries, 0 to 40749\n",
      "Data columns (total 95 columns):\n",
      " #   Column                            Non-Null Count  Dtype \n",
      "---  ------                            --------------  ----- \n",
      " 0   id                                40750 non-null  object\n",
      " 1   listing_url                       40750 non-null  object\n",
      " 2   scrape_id                         40750 non-null  object\n",
      " 3   last_scraped                      40750 non-null  object\n",
      " 4   name                              40715 non-null  object\n",
      " 5   summary                           39135 non-null  object\n",
      " 6   space                             27879 non-null  object\n",
      " 7   description                       40731 non-null  object\n",
      " 8   experiences_offered               40750 non-null  object\n",
      " 9   neighborhood_overview             23628 non-null  object\n",
      " 10  notes                             14606 non-null  object\n",
      " 11  transit                           25459 non-null  object\n",
      " 12  access                            23578 non-null  object\n",
      " 13  interaction                       22475 non-null  object\n",
      " 14  house_rules                       25918 non-null  object\n",
      " 15  thumbnail_url                     32134 non-null  object\n",
      " 16  medium_url                        32134 non-null  object\n",
      " 17  picture_url                       40750 non-null  object\n",
      " 18  xl_picture_url                    32134 non-null  object\n",
      " 19  host_id                           40750 non-null  object\n",
      " 20  host_url                          40750 non-null  object\n",
      " 21  host_name                         40499 non-null  object\n",
      " 22  host_since                        40499 non-null  object\n",
      " 23  host_location                     40334 non-null  object\n",
      " 24  host_about                        25057 non-null  object\n",
      " 25  host_response_time                27610 non-null  object\n",
      " 26  host_response_rate                27610 non-null  object\n",
      " 27  host_acceptance_rate              0 non-null      object\n",
      " 28  host_is_superhost                 40499 non-null  object\n",
      " 29  host_thumbnail_url                40499 non-null  object\n",
      " 30  host_picture_url                  40499 non-null  object\n",
      " 31  host_neighbourhood                35556 non-null  object\n",
      " 32  host_listings_count               40499 non-null  object\n",
      " 33  host_total_listings_count         40499 non-null  object\n",
      " 34  host_verifications                40750 non-null  object\n",
      " 35  host_has_profile_pic              40499 non-null  object\n",
      " 36  host_identity_verified            40499 non-null  object\n",
      " 37  street                            40750 non-null  object\n",
      " 38  neighbourhood                     34745 non-null  object\n",
      " 39  neighbourhood_cleansed            40750 non-null  object\n",
      " 40  neighbourhood_group_cleansed      40750 non-null  object\n",
      " 41  city                              40706 non-null  object\n",
      " 42  state                             40750 non-null  object\n",
      " 43  zipcode                           40139 non-null  object\n",
      " 44  market                            40604 non-null  object\n",
      " 45  smart_location                    40750 non-null  object\n",
      " 46  country_code                      40750 non-null  object\n",
      " 47  country                           40750 non-null  object\n",
      " 48  latitude                          40750 non-null  object\n",
      " 49  longitude                         40750 non-null  object\n",
      " 50  is_location_exact                 40750 non-null  object\n",
      " 51  property_type                     40750 non-null  object\n",
      " 52  room_type                         40750 non-null  object\n",
      " 53  accommodates                      40750 non-null  object\n",
      " 54  bathrooms                         40591 non-null  object\n",
      " 55  bedrooms                          40681 non-null  object\n",
      " 56  beds                              40671 non-null  object\n",
      " 57  bed_type                          40750 non-null  object\n",
      " 58  amenities                         40750 non-null  object\n",
      " 59  square_feet                       567 non-null    object\n",
      " 60  price                             40750 non-null  object\n",
      " 61  weekly_price                      9007 non-null   object\n",
      " 62  monthly_price                     7411 non-null   object\n",
      " 63  security_deposit                  17792 non-null  object\n",
      " 64  cleaning_fee                      28059 non-null  object\n",
      " 65  guests_included                   40750 non-null  object\n",
      " 66  extra_people                      40750 non-null  object\n",
      " 67  minimum_nights                    40750 non-null  object\n",
      " 68  maximum_nights                    40750 non-null  object\n",
      " 69  calendar_updated                  40750 non-null  object\n",
      " 70  has_availability                  0 non-null      object\n",
      " 71  availability_30                   40750 non-null  object\n",
      " 72  availability_60                   40750 non-null  object\n",
      " 73  availability_90                   40750 non-null  object\n",
      " 74  availability_365                  40750 non-null  object\n",
      " 75  calendar_last_scraped             40750 non-null  object\n",
      " 76  number_of_reviews                 40750 non-null  object\n",
      " 77  first_review                      31451 non-null  object\n",
      " 78  last_review                       31565 non-null  object\n",
      " 79  review_scores_rating              30826 non-null  object\n",
      " 80  review_scores_accuracy            30733 non-null  object\n",
      " 81  review_scores_cleanliness         30765 non-null  object\n",
      " 82  review_scores_checkin             30714 non-null  object\n",
      " 83  review_scores_communication       30764 non-null  object\n",
      " 84  review_scores_location            30713 non-null  object\n",
      " 85  review_scores_value               30711 non-null  object\n",
      " 86  requires_license                  40750 non-null  object\n",
      " 87  license                           0 non-null      object\n",
      " 88  jurisdiction_names                8 non-null      object\n",
      " 89  instant_bookable                  40750 non-null  object\n",
      " 90  cancellation_policy               40750 non-null  object\n",
      " 91  require_guest_profile_picture     40750 non-null  object\n",
      " 92  require_guest_phone_verification  40750 non-null  object\n",
      " 93  calculated_host_listings_count    40750 non-null  object\n",
      " 94  reviews_per_month                 31451 non-null  object\n",
      "dtypes: object(95)\n",
      "memory usage: 29.5+ MB\n"
     ]
    }
   ],
   "source": [
    "Airbnb.info()"
   ]
  },
  {
   "cell_type": "code",
   "execution_count": 18,
   "metadata": {},
   "outputs": [
    {
     "data": {
      "text/html": [
       "<div>\n",
       "<style scoped>\n",
       "    .dataframe tbody tr th:only-of-type {\n",
       "        vertical-align: middle;\n",
       "    }\n",
       "\n",
       "    .dataframe tbody tr th {\n",
       "        vertical-align: top;\n",
       "    }\n",
       "\n",
       "    .dataframe thead th {\n",
       "        text-align: right;\n",
       "    }\n",
       "</style>\n",
       "<table border=\"1\" class=\"dataframe\">\n",
       "  <thead>\n",
       "    <tr style=\"text-align: right;\">\n",
       "      <th></th>\n",
       "      <th>RegionID</th>\n",
       "      <th>RegionName</th>\n",
       "      <th>City</th>\n",
       "      <th>State</th>\n",
       "      <th>Metro</th>\n",
       "      <th>CountyName</th>\n",
       "      <th>SizeRank</th>\n",
       "      <th>1996-04</th>\n",
       "      <th>1996-05</th>\n",
       "      <th>1996-06</th>\n",
       "      <th>...</th>\n",
       "      <th>2016-09</th>\n",
       "      <th>2016-10</th>\n",
       "      <th>2016-11</th>\n",
       "      <th>2016-12</th>\n",
       "      <th>2017-01</th>\n",
       "      <th>2017-02</th>\n",
       "      <th>2017-03</th>\n",
       "      <th>2017-04</th>\n",
       "      <th>2017-05</th>\n",
       "      <th>2017-06</th>\n",
       "    </tr>\n",
       "  </thead>\n",
       "  <tbody>\n",
       "    <tr>\n",
       "      <th>0</th>\n",
       "      <td>61627</td>\n",
       "      <td>10013</td>\n",
       "      <td>New York</td>\n",
       "      <td>NY</td>\n",
       "      <td>New York</td>\n",
       "      <td>New York</td>\n",
       "      <td>1744</td>\n",
       "      <td>NaN</td>\n",
       "      <td>NaN</td>\n",
       "      <td>NaN</td>\n",
       "      <td>...</td>\n",
       "      <td>3347100</td>\n",
       "      <td>3305500</td>\n",
       "      <td>3261100</td>\n",
       "      <td>3244000.0</td>\n",
       "      <td>3231400</td>\n",
       "      <td>3183300</td>\n",
       "      <td>3160200</td>\n",
       "      <td>3193500</td>\n",
       "      <td>3262200</td>\n",
       "      <td>3316500</td>\n",
       "    </tr>\n",
       "    <tr>\n",
       "      <th>1</th>\n",
       "      <td>61628</td>\n",
       "      <td>10014</td>\n",
       "      <td>New York</td>\n",
       "      <td>NY</td>\n",
       "      <td>New York</td>\n",
       "      <td>New York</td>\n",
       "      <td>379</td>\n",
       "      <td>NaN</td>\n",
       "      <td>NaN</td>\n",
       "      <td>NaN</td>\n",
       "      <td>...</td>\n",
       "      <td>2480800</td>\n",
       "      <td>2443200</td>\n",
       "      <td>2430100</td>\n",
       "      <td>2452900.0</td>\n",
       "      <td>2451200</td>\n",
       "      <td>2441900</td>\n",
       "      <td>2460900</td>\n",
       "      <td>2494900</td>\n",
       "      <td>2498400</td>\n",
       "      <td>2491600</td>\n",
       "    </tr>\n",
       "    <tr>\n",
       "      <th>2</th>\n",
       "      <td>61625</td>\n",
       "      <td>10011</td>\n",
       "      <td>New York</td>\n",
       "      <td>NY</td>\n",
       "      <td>New York</td>\n",
       "      <td>New York</td>\n",
       "      <td>15</td>\n",
       "      <td>NaN</td>\n",
       "      <td>NaN</td>\n",
       "      <td>NaN</td>\n",
       "      <td>...</td>\n",
       "      <td>2354000</td>\n",
       "      <td>2355500</td>\n",
       "      <td>2352200</td>\n",
       "      <td>2332100.0</td>\n",
       "      <td>2313300</td>\n",
       "      <td>2319600</td>\n",
       "      <td>2342100</td>\n",
       "      <td>2365900</td>\n",
       "      <td>2419700</td>\n",
       "      <td>2480400</td>\n",
       "    </tr>\n",
       "    <tr>\n",
       "      <th>3</th>\n",
       "      <td>97515</td>\n",
       "      <td>94024</td>\n",
       "      <td>Los Altos</td>\n",
       "      <td>CA</td>\n",
       "      <td>San Jose</td>\n",
       "      <td>Santa Clara</td>\n",
       "      <td>4335</td>\n",
       "      <td>419500.0</td>\n",
       "      <td>422300.0</td>\n",
       "      <td>430400.0</td>\n",
       "      <td>...</td>\n",
       "      <td>2330300</td>\n",
       "      <td>2302700</td>\n",
       "      <td>2269300</td>\n",
       "      <td>2263600.0</td>\n",
       "      <td>2279300</td>\n",
       "      <td>2302700</td>\n",
       "      <td>2321700</td>\n",
       "      <td>2351200</td>\n",
       "      <td>2371500</td>\n",
       "      <td>2378100</td>\n",
       "    </tr>\n",
       "    <tr>\n",
       "      <th>4</th>\n",
       "      <td>97519</td>\n",
       "      <td>94028</td>\n",
       "      <td>Portola Valley</td>\n",
       "      <td>CA</td>\n",
       "      <td>San Francisco</td>\n",
       "      <td>San Mateo</td>\n",
       "      <td>7158</td>\n",
       "      <td>NaN</td>\n",
       "      <td>NaN</td>\n",
       "      <td>NaN</td>\n",
       "      <td>...</td>\n",
       "      <td>2350800</td>\n",
       "      <td>2336500</td>\n",
       "      <td>2317200</td>\n",
       "      <td>2313800.0</td>\n",
       "      <td>2324200</td>\n",
       "      <td>2317300</td>\n",
       "      <td>2294500</td>\n",
       "      <td>2296300</td>\n",
       "      <td>2329400</td>\n",
       "      <td>2358300</td>\n",
       "    </tr>\n",
       "  </tbody>\n",
       "</table>\n",
       "<p>5 rows × 262 columns</p>\n",
       "</div>"
      ],
      "text/plain": [
       "   RegionID  RegionName            City State          Metro   CountyName  \\\n",
       "0     61627       10013        New York    NY       New York     New York   \n",
       "1     61628       10014        New York    NY       New York     New York   \n",
       "2     61625       10011        New York    NY       New York     New York   \n",
       "3     97515       94024       Los Altos    CA       San Jose  Santa Clara   \n",
       "4     97519       94028  Portola Valley    CA  San Francisco    San Mateo   \n",
       "\n",
       "   SizeRank   1996-04   1996-05   1996-06  ...  2016-09  2016-10  2016-11  \\\n",
       "0      1744       NaN       NaN       NaN  ...  3347100  3305500  3261100   \n",
       "1       379       NaN       NaN       NaN  ...  2480800  2443200  2430100   \n",
       "2        15       NaN       NaN       NaN  ...  2354000  2355500  2352200   \n",
       "3      4335  419500.0  422300.0  430400.0  ...  2330300  2302700  2269300   \n",
       "4      7158       NaN       NaN       NaN  ...  2350800  2336500  2317200   \n",
       "\n",
       "     2016-12  2017-01  2017-02  2017-03  2017-04  2017-05  2017-06  \n",
       "0  3244000.0  3231400  3183300  3160200  3193500  3262200  3316500  \n",
       "1  2452900.0  2451200  2441900  2460900  2494900  2498400  2491600  \n",
       "2  2332100.0  2313300  2319600  2342100  2365900  2419700  2480400  \n",
       "3  2263600.0  2279300  2302700  2321700  2351200  2371500  2378100  \n",
       "4  2313800.0  2324200  2317300  2294500  2296300  2329400  2358300  \n",
       "\n",
       "[5 rows x 262 columns]"
      ]
     },
     "execution_count": 18,
     "metadata": {},
     "output_type": "execute_result"
    }
   ],
   "source": [
    "Zillow = pd.read_csv('Zip_Zhvi_2bedroom.csv') # reading Zillow data\n",
    "Zillow.head() # inspecting the head of dataset"
   ]
  },
  {
   "cell_type": "code",
   "execution_count": 19,
   "metadata": {},
   "outputs": [
    {
     "data": {
      "text/plain": [
       "(8946, 262)"
      ]
     },
     "execution_count": 19,
     "metadata": {},
     "output_type": "execute_result"
    }
   ],
   "source": [
    "Zillow.shape"
   ]
  },
  {
   "cell_type": "markdown",
   "metadata": {},
   "source": [
    "# Filterting Data - NYC 2 bedrooms Airbnb"
   ]
  },
  {
   "cell_type": "markdown",
   "metadata": {},
   "source": [
    "For this analysis, i will be focusing on 2 bedroom property listings in the New York Area. Before filtering the dataset, i want to inspect state and bedrooms column to make sure we have clean data to work with."
   ]
  },
  {
   "cell_type": "markdown",
   "metadata": {},
   "source": [
    "## Quality Check "
   ]
  },
  {
   "cell_type": "markdown",
   "metadata": {},
   "source": [
    "## 1. Inspecting State column"
   ]
  },
  {
   "cell_type": "code",
   "execution_count": 20,
   "metadata": {},
   "outputs": [
    {
     "data": {
      "text/plain": [
       "0"
      ]
     },
     "execution_count": 20,
     "metadata": {},
     "output_type": "execute_result"
    }
   ],
   "source": [
    "Airbnb.state.isnull().sum()"
   ]
  },
  {
   "cell_type": "code",
   "execution_count": 21,
   "metadata": {},
   "outputs": [
    {
     "data": {
      "text/plain": [
       "NY          40741\n",
       "ny              5\n",
       "VT              1\n",
       "NJ              1\n",
       "MP              1\n",
       "New York        1\n",
       "Name: state, dtype: int64"
      ]
     },
     "execution_count": 21,
     "metadata": {},
     "output_type": "execute_result"
    }
   ],
   "source": [
    "Airbnb.state.value_counts()"
   ]
  },
  {
   "cell_type": "code",
   "execution_count": 22,
   "metadata": {},
   "outputs": [
    {
     "data": {
      "text/plain": [
       "29968    Manhattan\n",
       "Name: neighbourhood_group_cleansed, dtype: object"
      ]
     },
     "execution_count": 22,
     "metadata": {},
     "output_type": "execute_result"
    }
   ],
   "source": [
    "Airbnb[Airbnb['state'] == 'VT'].neighbourhood_group_cleansed"
   ]
  },
  {
   "cell_type": "code",
   "execution_count": 23,
   "metadata": {},
   "outputs": [
    {
     "data": {
      "text/plain": [
       "29689    Manhattan\n",
       "Name: neighbourhood_group_cleansed, dtype: object"
      ]
     },
     "execution_count": 23,
     "metadata": {},
     "output_type": "execute_result"
    }
   ],
   "source": [
    "Airbnb[Airbnb['state'] == 'NJ'].neighbourhood_group_cleansed"
   ]
  },
  {
   "cell_type": "code",
   "execution_count": 24,
   "metadata": {},
   "outputs": [
    {
     "data": {
      "text/plain": [
       "3174    Brooklyn\n",
       "Name: neighbourhood_group_cleansed, dtype: object"
      ]
     },
     "execution_count": 24,
     "metadata": {},
     "output_type": "execute_result"
    }
   ],
   "source": [
    "Airbnb[Airbnb['state'] == 'MP'].neighbourhood_group_cleansed"
   ]
  },
  {
   "cell_type": "markdown",
   "metadata": {},
   "source": [
    "Observations: \n",
    "1. The state column mostly contains 'NY' values. But it also has other values such as ny, New York, MP, NJ, VT and so on\n",
    "2. Upon, further inspection of the neighbourhood_cleansed column for these states, I found that these listings were of Manhattan and Brooklyn. This could be simply erroneous data and should be cleaned appropriately.\n",
    "\n",
    "So, I decided to change all the values to 'NY' in the state column."
   ]
  },
  {
   "cell_type": "code",
   "execution_count": 25,
   "metadata": {},
   "outputs": [
    {
     "data": {
      "text/plain": [
       "NY    40750\n",
       "Name: state, dtype: int64"
      ]
     },
     "execution_count": 25,
     "metadata": {},
     "output_type": "execute_result"
    }
   ],
   "source": [
    "Airbnb['state']= 'NY' # cleaning the values of state column\n",
    "Airbnb.state.value_counts() # inspecting the state column after cleaning"
   ]
  },
  {
   "cell_type": "markdown",
   "metadata": {},
   "source": [
    "## 2. Inspecting Bedrooms column"
   ]
  },
  {
   "cell_type": "code",
   "execution_count": 26,
   "metadata": {},
   "outputs": [
    {
     "data": {
      "text/plain": [
       "69"
      ]
     },
     "execution_count": 26,
     "metadata": {},
     "output_type": "execute_result"
    }
   ],
   "source": [
    "Airbnb.bedrooms.isnull().sum()"
   ]
  },
  {
   "cell_type": "code",
   "execution_count": 27,
   "metadata": {},
   "outputs": [
    {
     "data": {
      "text/plain": [
       "1     30295\n",
       "2      4892\n",
       "0      3525\n",
       "3      1458\n",
       "4       375\n",
       "5        87\n",
       "6        29\n",
       "7         8\n",
       "8         7\n",
       "10        3\n",
       "9         2\n",
       "Name: bedrooms, dtype: int64"
      ]
     },
     "execution_count": 27,
     "metadata": {},
     "output_type": "execute_result"
    }
   ],
   "source": [
    "Airbnb = Airbnb[Airbnb['bedrooms'].notna()] #removing null values \n",
    "Airbnb['bedrooms'] = Airbnb['bedrooms'].astype(\"str\") # converting bedrooms column values\n",
    "\n",
    "Airbnb.bedrooms = Airbnb.bedrooms.replace(\"0.0\",\"0\")\n",
    "Airbnb.bedrooms = Airbnb.bedrooms.replace(\"1.0\",\"1\")\n",
    "Airbnb.bedrooms = Airbnb.bedrooms.replace(\"2.0\",\"2\")\n",
    "Airbnb.bedrooms = Airbnb.bedrooms.replace(\"3.0\",\"3\")\n",
    "Airbnb.bedrooms = Airbnb.bedrooms.replace(\"4.0\",\"4\")\n",
    "Airbnb.bedrooms = Airbnb.bedrooms.replace(\"5.0\",\"5\")\n",
    "Airbnb.bedrooms = Airbnb.bedrooms.replace(\"6.0\",\"6\")\n",
    "Airbnb.bedrooms = Airbnb.bedrooms.replace(\"7.0\",\"7\")\n",
    "Airbnb.bedrooms = Airbnb.bedrooms.replace(\"8.0\",\"8\")\n",
    "Airbnb.bedrooms = Airbnb.bedrooms.replace(\"9.0\",\"9\")\n",
    "Airbnb.bedrooms = Airbnb.bedrooms.replace(\"10.0\",\"10\")\n",
    "\n",
    "Airbnb['bedrooms'].value_counts()"
   ]
  },
  {
   "cell_type": "code",
   "execution_count": 28,
   "metadata": {},
   "outputs": [
    {
     "name": "stdout",
     "output_type": "stream",
     "text": [
      "2 Bedroom Airbnb listings: 12.00 %\n"
     ]
    }
   ],
   "source": [
    "print('2 Bedroom Airbnb listings:', \"{:.2f}\".format((4892/40750)*100),\"%\")"
   ]
  },
  {
   "cell_type": "code",
   "execution_count": 29,
   "metadata": {},
   "outputs": [
    {
     "name": "stdout",
     "output_type": "stream",
     "text": [
      "Erroneous data - Listed as 0 bedroom properties 8.65 %\n"
     ]
    }
   ],
   "source": [
    "print('Erroneous data - Listed as 0 bedroom properties', \"{:.2f}\".format((3525/40750)*100),\"%\")"
   ]
  },
  {
   "cell_type": "markdown",
   "metadata": {},
   "source": [
    "Observations:\n",
    "\n",
    "1. The bedroom column has 69 null values.\n",
    "2. Data is not clean as the column has values like 2,2.0 and so on. This has to be cleaned before the next step.\n",
    "3. 12% of listings are 2 bedroom properties in New York.\n",
    "4. 8.65% of the values are 0 in the bedrooms column. This is erroneous data. So, we may have more than 12% of 2 bedrooms properties in New York and the above figure may not be an accurate representation of the actual world data.\n",
    "\n",
    "Note: I have changed the format of bedrooms column to string because it will be easier to work with."
   ]
  },
  {
   "cell_type": "markdown",
   "metadata": {},
   "source": [
    "## Filtering Airbnb data"
   ]
  },
  {
   "cell_type": "code",
   "execution_count": 30,
   "metadata": {},
   "outputs": [
    {
     "data": {
      "text/plain": [
       "(4892, 95)"
      ]
     },
     "execution_count": 30,
     "metadata": {},
     "output_type": "execute_result"
    }
   ],
   "source": [
    "state = ['NY'] # list to store the state values which needs to be filtered\n",
    "bedrooms = ['2'] # list to store the bedroom values which needs to be filtered\n",
    "\n",
    "Airbnb = filter_airbnb_data(Airbnb,state,bedrooms) # function call to filter airbnb data\n",
    "Airbnb.shape # shape after filtering airbnb data"
   ]
  },
  {
   "cell_type": "markdown",
   "metadata": {},
   "source": [
    "Further inspection of other important columns in Airbnb data"
   ]
  },
  {
   "cell_type": "markdown",
   "metadata": {},
   "source": [
    "## 3. Inspecting Neighbourhood group cleansed column"
   ]
  },
  {
   "cell_type": "code",
   "execution_count": 31,
   "metadata": {},
   "outputs": [
    {
     "data": {
      "text/plain": [
       "0"
      ]
     },
     "execution_count": 31,
     "metadata": {},
     "output_type": "execute_result"
    }
   ],
   "source": [
    "Airbnb.neighbourhood_group_cleansed.isnull().sum() # no null values"
   ]
  },
  {
   "cell_type": "code",
   "execution_count": 32,
   "metadata": {},
   "outputs": [
    {
     "data": {
      "text/plain": [
       "array(['Bronx', 'Queens', 'Staten Island', 'Brooklyn', 'Manhattan'],\n",
       "      dtype=object)"
      ]
     },
     "execution_count": 32,
     "metadata": {},
     "output_type": "execute_result"
    }
   ],
   "source": [
    "Airbnb.neighbourhood_group_cleansed.unique()"
   ]
  },
  {
   "cell_type": "markdown",
   "metadata": {},
   "source": [
    "## 4. Inspecting price column"
   ]
  },
  {
   "cell_type": "code",
   "execution_count": 33,
   "metadata": {},
   "outputs": [
    {
     "data": {
      "text/plain": [
       "0"
      ]
     },
     "execution_count": 33,
     "metadata": {},
     "output_type": "execute_result"
    }
   ],
   "source": [
    "Airbnb.price.isnull().sum() # no null values"
   ]
  },
  {
   "cell_type": "code",
   "execution_count": 34,
   "metadata": {},
   "outputs": [
    {
     "data": {
      "text/plain": [
       "0    $130.00 \n",
       "1    $150.00 \n",
       "2    $200.00 \n",
       "3    $250.00 \n",
       "4     $79.00 \n",
       "Name: price, dtype: object"
      ]
     },
     "execution_count": 34,
     "metadata": {},
     "output_type": "execute_result"
    }
   ],
   "source": [
    "Airbnb['price'].head() # inspecting head of price column"
   ]
  },
  {
   "cell_type": "code",
   "execution_count": 35,
   "metadata": {},
   "outputs": [],
   "source": [
    "Airbnb.replace({'[\\$,]':''}, regex=True,inplace=True) # cleaning the price column by removing '$,\\' sybmols'\n",
    "Airbnb.price = Airbnb.price.astype(\"float\") # changing the price column to float value\n",
    "Airbnb.weekly_price = Airbnb.weekly_price.astype(\"float\")\n",
    "Airbnb.monthly_price = Airbnb.monthly_price.astype(\"float\")"
   ]
  },
  {
   "cell_type": "markdown",
   "metadata": {},
   "source": [
    "### 4.1 Visualizing the price distribution using a histogram"
   ]
  },
  {
   "cell_type": "code",
   "execution_count": 36,
   "metadata": {},
   "outputs": [
    {
     "data": {
      "image/png": "[encoded data removed]",
      "text/plain": [
       "<Figure size 1440x720 with 1 Axes>"
      ]
     },
     "metadata": {},
     "output_type": "display_data"
    }
   ],
   "source": [
    "sns.set_theme(style=\"whitegrid\") # set white grid background\n",
    "plt.figure(figsize=(20,10))\n",
    "\n",
    "sns.distplot(Airbnb['price']) # plot hostogram for price variable\n",
    "\n",
    "# formatting ticks size\n",
    "plt.xticks(fontsize=25)\n",
    "plt.yticks(fontsize=25)\n",
    "\n",
    "# setting title and labels\n",
    "plt.title(\"Visualizing price column\", loc='center',fontsize=30)\n",
    "plt.xlabel('Price $',fontsize=25)\n",
    "\n",
    "# hiding yticks\n",
    "ax = plt.gca()\n",
    "ax.axes.yaxis.set_visible(False)"
   ]
  },
  {
   "cell_type": "markdown",
   "metadata": {},
   "source": [
    "Observations:\n",
    "   \n",
    "1. Price column is positively skewed. In such scenarios, median is a better measure of central tendency than mean since mean > median and it is resistent to outliers compared to mean."
   ]
  },
  {
   "cell_type": "markdown",
   "metadata": {},
   "source": [
    "### 4.2 Checking for the presence of outliers using boxplot"
   ]
  },
  {
   "cell_type": "code",
   "execution_count": 37,
   "metadata": {},
   "outputs": [
    {
     "data": {
      "text/plain": [
       "Text(0, 0.5, 'Neighbourhood group')"
      ]
     },
     "execution_count": 37,
     "metadata": {},
     "output_type": "execute_result"
    },
    {
     "data": {
      "image/png": "[encoded data removed]",
      "text/plain": [
       "<Figure size 1440x720 with 1 Axes>"
      ]
     },
     "metadata": {},
     "output_type": "display_data"
    }
   ],
   "source": [
    "# Draw boxplot to check the presence of outliers\n",
    "plt.figure(figsize=(20,10))\n",
    "sns.set_theme(style=\"whitegrid\")\n",
    "sns.boxplot(x = Airbnb['price'], y= Airbnb['neighbourhood_group_cleansed'], showfliers=True)\n",
    "\n",
    "# formatting ticks size\n",
    "plt.xticks(fontsize=15)\n",
    "plt.yticks(fontsize=15)\n",
    "\n",
    "# setting lablel and title\n",
    "plt.title(\"Box plot to check presence of outliers\", loc='center',fontsize=30)\n",
    "plt.xlabel('Price $',fontsize=20)\n",
    "plt.ylabel('Neighbourhood group',fontsize=20)"
   ]
  },
  {
   "cell_type": "markdown",
   "metadata": {},
   "source": [
    "### 4.3 Removing outliers from manhattan column"
   ]
  },
  {
   "cell_type": "code",
   "execution_count": 38,
   "metadata": {},
   "outputs": [
    {
     "name": "stdout",
     "output_type": "stream",
     "text": [
      "The upper bound value for price in the dataset is: 612 $\n",
      "The upper bound value for price in the dataset is: 88 $\n"
     ]
    }
   ],
   "source": [
    "manhattan = Airbnb[Airbnb['neighbourhood_group_cleansed']=='Manhattan'] # filtering manhattan listings\n",
    "\n",
    "# computing Inter-Quartile_Range (IQR)\n",
    "Q1 = manhattan.price.quantile(0.25)\n",
    "Q3 = manhattan.price.quantile(0.75)\n",
    "IQR = Q3 - Q1\n",
    "\n",
    "# Printing upper and lower bound values\n",
    "print('The upper bound value for price in the dataset is:', \"{:.0f}\".format(Q3 + 1.5 * IQR),\"$\")\n",
    "print('The upper bound value for price in the dataset is:', \"{:.0f}\".format(Q3 - 1.5 * IQR),\"$\")"
   ]
  },
  {
   "cell_type": "code",
   "execution_count": 39,
   "metadata": {},
   "outputs": [
    {
     "data": {
      "text/plain": [
       "(4882, 95)"
      ]
     },
     "execution_count": 39,
     "metadata": {},
     "output_type": "execute_result"
    }
   ],
   "source": [
    "Airbnb = Airbnb[Airbnb['price']<2000] # removing columns with price < 2000$\n",
    "Airbnb.shape "
   ]
  },
  {
   "cell_type": "markdown",
   "metadata": {},
   "source": [
    "Observations:\n",
    "\n",
    "1. Manhattan neighbourhood has prices like 9999$. This has to be removed\n",
    "\n",
    "Outlier Treatment - Approach:\n",
    "\n",
    "1. The upperbound price for Manhattan is 612 dollars, so removing prices above that value would not be meaningful value as we will lose a lot of data. Instead, I will remove prices above 2000 dollars to retain as much data points as possible.\n",
    "\n",
    "2. 10 data points have been removed\n",
    "\n",
    "Note: The value of 2000 was arrived by referring through the Airbnb website and browsing through the prices for 2 bedroom Airbnb listings in New York. I was able to find rooms for 1600 $ per night in the Mahattan area. "
   ]
  },
  {
   "cell_type": "markdown",
   "metadata": {},
   "source": [
    "### 4.4 Boxplot after oulier treatment"
   ]
  },
  {
   "cell_type": "code",
   "execution_count": 40,
   "metadata": {},
   "outputs": [
    {
     "data": {
      "text/plain": [
       "Text(0, 0.5, 'Neighbourhood group')"
      ]
     },
     "execution_count": 40,
     "metadata": {},
     "output_type": "execute_result"
    },
    {
     "data": {
      "image/png": "[encoded data removed]",
      "text/plain": [
       "<Figure size 1440x720 with 1 Axes>"
      ]
     },
     "metadata": {},
     "output_type": "display_data"
    }
   ],
   "source": [
    "# Draw boxplot to check the presence of outliers\n",
    "plt.figure(figsize=(20,10))\n",
    "sns.set_theme(style=\"whitegrid\")\n",
    "sns.boxplot(x = Airbnb['price'], y= Airbnb['neighbourhood_group_cleansed'], showfliers=False)\n",
    "\n",
    "# formatting tick size\n",
    "plt.xticks(fontsize=15)\n",
    "plt.yticks(fontsize=15)\n",
    "\n",
    "# setting title and label\n",
    "plt.title(\"Box plot after outlier treatment\", loc='center',fontsize=30)\n",
    "plt.xlabel('Price $',fontsize=20)\n",
    "plt.ylabel('Neighbourhood group',fontsize=20)"
   ]
  },
  {
   "cell_type": "markdown",
   "metadata": {},
   "source": [
    "### 4.5 Visualizing median rent prices of each neighbourhood"
   ]
  },
  {
   "cell_type": "code",
   "execution_count": 41,
   "metadata": {},
   "outputs": [
    {
     "data": {
      "text/html": [
       "<div>\n",
       "<style scoped>\n",
       "    .dataframe tbody tr th:only-of-type {\n",
       "        vertical-align: middle;\n",
       "    }\n",
       "\n",
       "    .dataframe tbody tr th {\n",
       "        vertical-align: top;\n",
       "    }\n",
       "\n",
       "    .dataframe thead th {\n",
       "        text-align: right;\n",
       "    }\n",
       "</style>\n",
       "<table border=\"1\" class=\"dataframe\">\n",
       "  <thead>\n",
       "    <tr style=\"text-align: right;\">\n",
       "      <th></th>\n",
       "      <th>neighbourhood_group_cleansed</th>\n",
       "      <th>price</th>\n",
       "    </tr>\n",
       "  </thead>\n",
       "  <tbody>\n",
       "    <tr>\n",
       "      <th>0</th>\n",
       "      <td>Bronx</td>\n",
       "      <td>105.0</td>\n",
       "    </tr>\n",
       "    <tr>\n",
       "      <th>1</th>\n",
       "      <td>Brooklyn</td>\n",
       "      <td>155.0</td>\n",
       "    </tr>\n",
       "    <tr>\n",
       "      <th>2</th>\n",
       "      <td>Manhattan</td>\n",
       "      <td>250.0</td>\n",
       "    </tr>\n",
       "    <tr>\n",
       "      <th>3</th>\n",
       "      <td>Queens</td>\n",
       "      <td>132.0</td>\n",
       "    </tr>\n",
       "    <tr>\n",
       "      <th>4</th>\n",
       "      <td>Staten Island</td>\n",
       "      <td>118.0</td>\n",
       "    </tr>\n",
       "  </tbody>\n",
       "</table>\n",
       "</div>"
      ],
      "text/plain": [
       "  neighbourhood_group_cleansed  price\n",
       "0                        Bronx  105.0\n",
       "1                     Brooklyn  155.0\n",
       "2                    Manhattan  250.0\n",
       "3                       Queens  132.0\n",
       "4                Staten Island  118.0"
      ]
     },
     "execution_count": 41,
     "metadata": {},
     "output_type": "execute_result"
    }
   ],
   "source": [
    "grouped_df = Airbnb.groupby('neighbourhood_group_cleansed')['price'].median() # creating a dataframe to visualize median rent\n",
    "grouped_df = grouped_df.apply(np.ceil) # rounding off to the nearest decimal\n",
    "grouped_df = pd.DataFrame(grouped_df) # converting to dataframe\n",
    "grouped_df.reset_index(inplace=True) \n",
    "grouped_df"
   ]
  },
  {
   "cell_type": "code",
   "execution_count": 42,
   "metadata": {},
   "outputs": [
    {
     "data": {
      "text/plain": [
       "Text(0, 0.5, 'Neighbourhood group')"
      ]
     },
     "execution_count": 42,
     "metadata": {},
     "output_type": "execute_result"
    },
    {
     "data": {
      "image/png": "[encoded data removed]",
      "text/plain": [
       "<Figure size 864x360 with 1 Axes>"
      ]
     },
     "metadata": {},
     "output_type": "display_data"
    }
   ],
   "source": [
    "sns.set_theme(style=\"whitegrid\")\n",
    "\n",
    "# Initialize the matplotlib figure\n",
    "f, ax = plt.subplots(figsize=(12, 5))\n",
    "\n",
    "grouped_df = grouped_df.sort_values(\"price\", ascending=False) # sorting the price values in descending order\n",
    "\n",
    "sns.set_color_codes(\"muted\") # setting color codes\n",
    "\n",
    "# plotting a bar plot\n",
    "bar1 = sns.barplot(x=\"price\", y=\"neighbourhood_group_cleansed\", data=grouped_df, label=\"Price per day\", color=\"b\") \n",
    "\n",
    "\n",
    "# Add a legend and informative axis label\n",
    "ax.legend(ncol=1, loc=\"lower right\", frameon=True)\n",
    "ax.set(xlim=(0, 300))\n",
    "sns.despine(left=True, bottom=True)\n",
    "\n",
    "# formatting tick size\n",
    "plt.xticks(fontsize=12)\n",
    "plt.yticks(fontsize=12)\n",
    "\n",
    "# setting title and label\n",
    "plt.title(\"Median rents by neighbourhood\", loc='center',fontsize=20)\n",
    "plt.xlabel('Price ($) per day',fontsize=15)\n",
    "plt.ylabel('Neighbourhood group',fontsize=15)"
   ]
  },
  {
   "cell_type": "markdown",
   "metadata": {},
   "source": [
    "## 5. Inspecting Zipcodes"
   ]
  },
  {
   "cell_type": "code",
   "execution_count": 43,
   "metadata": {},
   "outputs": [
    {
     "data": {
      "text/plain": [
       "11211         286\n",
       "10002         167\n",
       "11221         165\n",
       "10009         156\n",
       "11216         142\n",
       "             ... \n",
       "10111           1\n",
       "11432           1\n",
       "11355           1\n",
       "11219           1\n",
       "10003-8623      1\n",
       "Name: zipcode, Length: 176, dtype: int64"
      ]
     },
     "execution_count": 43,
     "metadata": {},
     "output_type": "execute_result"
    }
   ],
   "source": [
    "Airbnb.zipcode.value_counts()"
   ]
  },
  {
   "cell_type": "code",
   "execution_count": 44,
   "metadata": {},
   "outputs": [],
   "source": [
    "Airbnb.zipcode = Airbnb.zipcode.apply(lambda x: str(x)[0:5] if len(str(x)) > 5 else x) # formatting zipcode column\n",
    "Airbnb.zipcode = Airbnb.zipcode.astype(str) # changing the zipcode to string format"
   ]
  },
  {
   "cell_type": "markdown",
   "metadata": {},
   "source": [
    "Observations:\n",
    "\n",
    "1. Some zipcode has 9 digit values. These needs to be changed to 5 digits to maintain uniformity."
   ]
  },
  {
   "cell_type": "markdown",
   "metadata": {},
   "source": [
    "## 6. Inspecting Availability_365"
   ]
  },
  {
   "cell_type": "code",
   "execution_count": 45,
   "metadata": {},
   "outputs": [
    {
     "data": {
      "text/plain": [
       "0      1053\n",
       "0       220\n",
       "365      78\n",
       "364      42\n",
       "122      24\n",
       "       ... \n",
       "129       1\n",
       "125       1\n",
       "37        1\n",
       "133       1\n",
       "140       1\n",
       "Name: availability_365, Length: 665, dtype: int64"
      ]
     },
     "execution_count": 45,
     "metadata": {},
     "output_type": "execute_result"
    }
   ],
   "source": [
    "Airbnb.availability_365.value_counts() # inspecting the different values of availability_365 column"
   ]
  },
  {
   "cell_type": "code",
   "execution_count": 46,
   "metadata": {},
   "outputs": [
    {
     "data": {
      "text/plain": [
       "Manhattan        620\n",
       "Brooklyn         586\n",
       "Queens            57\n",
       "Bronx              7\n",
       "Staten Island      3\n",
       "Name: neighbourhood_group_cleansed, dtype: int64"
      ]
     },
     "execution_count": 46,
     "metadata": {},
     "output_type": "execute_result"
    }
   ],
   "source": [
    "Airbnb['availability_365'] = Airbnb['availability_365'].astype(\"int\") # converting availability_365 column to int\n",
    "x = Airbnb[Airbnb['availability_365'] < 1] # filtering values with availability_365 as 0 days\n",
    "x.neighbourhood_group_cleansed.value_counts() # inspecting neighbourhoods with 0 values"
   ]
  },
  {
   "cell_type": "markdown",
   "metadata": {},
   "source": [
    "Assumptions:\n",
    "\n",
    "1. Availability_365 - This column specifies the no. of days the property is available for rent in a year. \n",
    "2. Not all properties listed by the host are available to rent for 365 days in a year. Listings may be available for only a certain amount of days in a year. Eg: A property may be available for only 200 days in a year.\n",
    "\n",
    "Observations:\n",
    "\n",
    "1. This column has 0 values. This needs to be corrected for futher analysis.\n",
    "2. Most of the 0 values are from Manhattan and Brooklyn neighbourhoods.\n",
    "\n",
    "Approach:\n",
    "\n",
    "1. For columns with availability listed as 0, we will be computing the mean availability for each neighbourhood and transforming the 0 values with mean values."
   ]
  },
  {
   "cell_type": "markdown",
   "metadata": {},
   "source": [
    "### 6.1 Transforming availability_365 column"
   ]
  },
  {
   "cell_type": "code",
   "execution_count": 47,
   "metadata": {},
   "outputs": [
    {
     "data": {
      "text/plain": [
       "neighbourhood_group_cleansed\n",
       "Bronx            166.660377\n",
       "Brooklyn         131.298514\n",
       "Manhattan        140.091027\n",
       "Queens           175.562130\n",
       "Staten Island    178.700000\n",
       "Name: availability_365, dtype: float64"
      ]
     },
     "execution_count": 47,
     "metadata": {},
     "output_type": "execute_result"
    }
   ],
   "source": [
    "Airbnb.groupby('neighbourhood_group_cleansed')['availability_365'].mean()"
   ]
  },
  {
   "cell_type": "code",
   "execution_count": 48,
   "metadata": {},
   "outputs": [
    {
     "data": {
      "text/html": [
       "<div>\n",
       "<style scoped>\n",
       "    .dataframe tbody tr th:only-of-type {\n",
       "        vertical-align: middle;\n",
       "    }\n",
       "\n",
       "    .dataframe tbody tr th {\n",
       "        vertical-align: top;\n",
       "    }\n",
       "\n",
       "    .dataframe thead th {\n",
       "        text-align: right;\n",
       "    }\n",
       "</style>\n",
       "<table border=\"1\" class=\"dataframe\">\n",
       "  <thead>\n",
       "    <tr style=\"text-align: right;\">\n",
       "      <th></th>\n",
       "      <th>id</th>\n",
       "      <th>listing_url</th>\n",
       "      <th>scrape_id</th>\n",
       "      <th>last_scraped</th>\n",
       "      <th>name</th>\n",
       "      <th>summary</th>\n",
       "      <th>space</th>\n",
       "      <th>description</th>\n",
       "      <th>experiences_offered</th>\n",
       "      <th>neighborhood_overview</th>\n",
       "      <th>...</th>\n",
       "      <th>review_scores_value</th>\n",
       "      <th>requires_license</th>\n",
       "      <th>license</th>\n",
       "      <th>jurisdiction_names</th>\n",
       "      <th>instant_bookable</th>\n",
       "      <th>cancellation_policy</th>\n",
       "      <th>require_guest_profile_picture</th>\n",
       "      <th>require_guest_phone_verification</th>\n",
       "      <th>calculated_host_listings_count</th>\n",
       "      <th>reviews_per_month</th>\n",
       "    </tr>\n",
       "  </thead>\n",
       "  <tbody>\n",
       "    <tr>\n",
       "      <th>0</th>\n",
       "      <td>9513511</td>\n",
       "      <td>https://www.airbnb.com/rooms/9513511</td>\n",
       "      <td>2.02E+13</td>\n",
       "      <td>5/3/17</td>\n",
       "      <td>Beautiful spacious &amp; sunny 2 bedroom apartment!</td>\n",
       "      <td>This charming pre-war apartment building is lo...</td>\n",
       "      <td>Please excuse the amateur photos while I await...</td>\n",
       "      <td>This charming pre-war apartment building is lo...</td>\n",
       "      <td>none</td>\n",
       "      <td>This lovely LARGE 2 bedroom apartment is just ...</td>\n",
       "      <td>...</td>\n",
       "      <td>10</td>\n",
       "      <td>f</td>\n",
       "      <td>NaN</td>\n",
       "      <td>NaN</td>\n",
       "      <td>f</td>\n",
       "      <td>strict</td>\n",
       "      <td>f</td>\n",
       "      <td>f</td>\n",
       "      <td>1</td>\n",
       "      <td>0.4</td>\n",
       "    </tr>\n",
       "    <tr>\n",
       "      <th>1</th>\n",
       "      <td>5046189</td>\n",
       "      <td>https://www.airbnb.com/rooms/5046189</td>\n",
       "      <td>2.02E+13</td>\n",
       "      <td>5/4/17</td>\n",
       "      <td>Peace &amp; Tranquility</td>\n",
       "      <td>IN THE HEART OF THE GREAT ITALIAN NEIGHBORHOOD...</td>\n",
       "      <td>NO OTHER LISTING IN NYC LIKE THIS . YOUR OWN H...</td>\n",
       "      <td>IN THE HEART OF THE GREAT ITALIAN NEIGHBORHOOD...</td>\n",
       "      <td>none</td>\n",
       "      <td>IN THE HEART OF THE GREAT ITALIAN NEIGHBORHOOD...</td>\n",
       "      <td>...</td>\n",
       "      <td>9</td>\n",
       "      <td>f</td>\n",
       "      <td>NaN</td>\n",
       "      <td>NaN</td>\n",
       "      <td>f</td>\n",
       "      <td>strict</td>\n",
       "      <td>f</td>\n",
       "      <td>f</td>\n",
       "      <td>2</td>\n",
       "      <td>1.15</td>\n",
       "    </tr>\n",
       "    <tr>\n",
       "      <th>2</th>\n",
       "      <td>4357134</td>\n",
       "      <td>https://www.airbnb.com/rooms/4357134</td>\n",
       "      <td>2.02E+13</td>\n",
       "      <td>5/5/17</td>\n",
       "      <td>Beautiful NY Gem</td>\n",
       "      <td>This is the perfect place for you and your fam...</td>\n",
       "      <td>NaN</td>\n",
       "      <td>This is the perfect place for you and your fam...</td>\n",
       "      <td>none</td>\n",
       "      <td>NaN</td>\n",
       "      <td>...</td>\n",
       "      <td>NaN</td>\n",
       "      <td>f</td>\n",
       "      <td>NaN</td>\n",
       "      <td>NaN</td>\n",
       "      <td>f</td>\n",
       "      <td>flexible</td>\n",
       "      <td>f</td>\n",
       "      <td>f</td>\n",
       "      <td>1</td>\n",
       "      <td>NaN</td>\n",
       "    </tr>\n",
       "    <tr>\n",
       "      <th>3</th>\n",
       "      <td>16027061</td>\n",
       "      <td>https://www.airbnb.com/rooms/16027061</td>\n",
       "      <td>2.02E+13</td>\n",
       "      <td>5/5/17</td>\n",
       "      <td>NYC finest apartment facing Easter River View!!!</td>\n",
       "      <td>My place is close to Bohemian Hall &amp; Beer Gard...</td>\n",
       "      <td>My place is only 15 minutes away from Manhatta...</td>\n",
       "      <td>My place is close to Bohemian Hall &amp; Beer Gard...</td>\n",
       "      <td>none</td>\n",
       "      <td>The peacefulness of Astoria Park while enjoyin...</td>\n",
       "      <td>...</td>\n",
       "      <td>NaN</td>\n",
       "      <td>f</td>\n",
       "      <td>NaN</td>\n",
       "      <td>NaN</td>\n",
       "      <td>t</td>\n",
       "      <td>flexible</td>\n",
       "      <td>f</td>\n",
       "      <td>f</td>\n",
       "      <td>1</td>\n",
       "      <td>NaN</td>\n",
       "    </tr>\n",
       "    <tr>\n",
       "      <th>4</th>\n",
       "      <td>11301089</td>\n",
       "      <td>https://www.airbnb.com/rooms/11301089</td>\n",
       "      <td>2.02E+13</td>\n",
       "      <td>5/4/17</td>\n",
       "      <td>Entire Apartment (Furnished) 2br in Astoria !</td>\n",
       "      <td>The Space ------------------------------------...</td>\n",
       "      <td>Beautiful Real 2 Bedroom Apartment in the Hear...</td>\n",
       "      <td>The Space ------------------------------------...</td>\n",
       "      <td>none</td>\n",
       "      <td>NaN</td>\n",
       "      <td>...</td>\n",
       "      <td>6</td>\n",
       "      <td>f</td>\n",
       "      <td>NaN</td>\n",
       "      <td>NaN</td>\n",
       "      <td>f</td>\n",
       "      <td>strict</td>\n",
       "      <td>t</td>\n",
       "      <td>t</td>\n",
       "      <td>2</td>\n",
       "      <td>1</td>\n",
       "    </tr>\n",
       "  </tbody>\n",
       "</table>\n",
       "<p>5 rows × 95 columns</p>\n",
       "</div>"
      ],
      "text/plain": [
       "         id                            listing_url scrape_id last_scraped  \\\n",
       "0   9513511   https://www.airbnb.com/rooms/9513511  2.02E+13       5/3/17   \n",
       "1   5046189   https://www.airbnb.com/rooms/5046189  2.02E+13       5/4/17   \n",
       "2   4357134   https://www.airbnb.com/rooms/4357134  2.02E+13       5/5/17   \n",
       "3  16027061  https://www.airbnb.com/rooms/16027061  2.02E+13       5/5/17   \n",
       "4  11301089  https://www.airbnb.com/rooms/11301089  2.02E+13       5/4/17   \n",
       "\n",
       "                                               name  \\\n",
       "0   Beautiful spacious & sunny 2 bedroom apartment!   \n",
       "1                               Peace & Tranquility   \n",
       "2                                  Beautiful NY Gem   \n",
       "3  NYC finest apartment facing Easter River View!!!   \n",
       "4     Entire Apartment (Furnished) 2br in Astoria !   \n",
       "\n",
       "                                             summary  \\\n",
       "0  This charming pre-war apartment building is lo...   \n",
       "1  IN THE HEART OF THE GREAT ITALIAN NEIGHBORHOOD...   \n",
       "2  This is the perfect place for you and your fam...   \n",
       "3  My place is close to Bohemian Hall & Beer Gard...   \n",
       "4  The Space ------------------------------------...   \n",
       "\n",
       "                                               space  \\\n",
       "0  Please excuse the amateur photos while I await...   \n",
       "1  NO OTHER LISTING IN NYC LIKE THIS . YOUR OWN H...   \n",
       "2                                                NaN   \n",
       "3  My place is only 15 minutes away from Manhatta...   \n",
       "4  Beautiful Real 2 Bedroom Apartment in the Hear...   \n",
       "\n",
       "                                         description experiences_offered  \\\n",
       "0  This charming pre-war apartment building is lo...                none   \n",
       "1  IN THE HEART OF THE GREAT ITALIAN NEIGHBORHOOD...                none   \n",
       "2  This is the perfect place for you and your fam...                none   \n",
       "3  My place is close to Bohemian Hall & Beer Gard...                none   \n",
       "4  The Space ------------------------------------...                none   \n",
       "\n",
       "                               neighborhood_overview  ... review_scores_value  \\\n",
       "0  This lovely LARGE 2 bedroom apartment is just ...  ...                  10   \n",
       "1  IN THE HEART OF THE GREAT ITALIAN NEIGHBORHOOD...  ...                   9   \n",
       "2                                                NaN  ...                 NaN   \n",
       "3  The peacefulness of Astoria Park while enjoyin...  ...                 NaN   \n",
       "4                                                NaN  ...                   6   \n",
       "\n",
       "  requires_license license jurisdiction_names instant_bookable  \\\n",
       "0                f     NaN                NaN                f   \n",
       "1                f     NaN                NaN                f   \n",
       "2                f     NaN                NaN                f   \n",
       "3                f     NaN                NaN                t   \n",
       "4                f     NaN                NaN                f   \n",
       "\n",
       "  cancellation_policy require_guest_profile_picture  \\\n",
       "0              strict                             f   \n",
       "1              strict                             f   \n",
       "2            flexible                             f   \n",
       "3            flexible                             f   \n",
       "4              strict                             t   \n",
       "\n",
       "  require_guest_phone_verification calculated_host_listings_count  \\\n",
       "0                                f                              1   \n",
       "1                                f                              2   \n",
       "2                                f                              1   \n",
       "3                                f                              1   \n",
       "4                                t                              2   \n",
       "\n",
       "  reviews_per_month  \n",
       "0               0.4  \n",
       "1              1.15  \n",
       "2               NaN  \n",
       "3               NaN  \n",
       "4                 1  \n",
       "\n",
       "[5 rows x 95 columns]"
      ]
     },
     "execution_count": 48,
     "metadata": {},
     "output_type": "execute_result"
    }
   ],
   "source": [
    "# transforming availability_365 column\n",
    "\n",
    "Airbnb['availability_365'] = Airbnb['availability_365'].replace(0, np.nan)\n",
    "Airbnb['availability_365'] = Airbnb['availability_365'].fillna(Airbnb.groupby('neighbourhood_group_cleansed')['availability_365'].transform('mean'))\n",
    "Airbnb['availability_365'] = Airbnb['availability_365'].apply(np.ceil)\n",
    "Airbnb.head()"
   ]
  },
  {
   "cell_type": "markdown",
   "metadata": {},
   "source": [
    "## 7. Inspecting Room type"
   ]
  },
  {
   "cell_type": "code",
   "execution_count": 49,
   "metadata": {},
   "outputs": [
    {
     "data": {
      "text/plain": [
       "Entire home/apt    4581\n",
       "Private room        301\n",
       "Name: room_type, dtype: int64"
      ]
     },
     "execution_count": 49,
     "metadata": {},
     "output_type": "execute_result"
    }
   ],
   "source": [
    "Airbnb.room_type.value_counts() #inspecting room_type"
   ]
  },
  {
   "cell_type": "code",
   "execution_count": 50,
   "metadata": {},
   "outputs": [
    {
     "data": {
      "image/png": "[encoded data removed]",
      "text/plain": [
       "<Figure size 360x360 with 1 Axes>"
      ]
     },
     "metadata": {},
     "output_type": "display_data"
    }
   ],
   "source": [
    "plt.figure(figsize=(5,5))\n",
    "sns.countplot(data=Airbnb,x='room_type')\n",
    "\n",
    "plt.xticks(fontsize=15)\n",
    "plt.yticks(fontsize=15)\n",
    "\n",
    "# setting title and labels\n",
    "plt.title(\"Availability by room type\", loc='center',fontsize=20)\n",
    "plt.xlabel('Room Type',fontsize=15)\n",
    "plt.ylabel('Count',fontsize=15)\n",
    "\n",
    "plt.show()"
   ]
  },
  {
   "cell_type": "markdown",
   "metadata": {},
   "source": [
    "Observations:\n",
    "\n",
    "1. Most of the property listings are available to rent entirely."
   ]
  },
  {
   "cell_type": "markdown",
   "metadata": {},
   "source": [
    "# Selecting Features & Feature Engineering"
   ]
  },
  {
   "cell_type": "markdown",
   "metadata": {},
   "source": [
    "### 1. Removing columns based on length of the values in the column"
   ]
  },
  {
   "cell_type": "code",
   "execution_count": 51,
   "metadata": {},
   "outputs": [
    {
     "data": {
      "text/plain": [
       "(4882, 75)"
      ]
     },
     "execution_count": 51,
     "metadata": {},
     "output_type": "execute_result"
    }
   ],
   "source": [
    "length = 20 # threshold length for removing columns based on the length of values in a column\n",
    "Airbnb = remove_text_columns(Airbnb,length) # function call\n",
    "Airbnb.shape"
   ]
  },
  {
   "cell_type": "markdown",
   "metadata": {},
   "source": [
    "### 2. Removing columns based on certain patterns or column names"
   ]
  },
  {
   "cell_type": "code",
   "execution_count": 52,
   "metadata": {},
   "outputs": [
    {
     "data": {
      "text/plain": [
       "(4882, 40)"
      ]
     },
     "execution_count": 52,
     "metadata": {},
     "output_type": "execute_result"
    }
   ],
   "source": [
    "patterns = ['review','host','url','calendar','require','nights','scrape'] # patterns to look for in column names\n",
    "Airbnb = remove_columns_w_patterns(Airbnb,patterns) # function call\n",
    "Airbnb.shape"
   ]
  },
  {
   "cell_type": "markdown",
   "metadata": {},
   "source": [
    "### 3. Removing columns based on null values % in a column"
   ]
  },
  {
   "cell_type": "code",
   "execution_count": 53,
   "metadata": {},
   "outputs": [
    {
     "data": {
      "text/plain": [
       "(4882, 30)"
      ]
     },
     "execution_count": 53,
     "metadata": {},
     "output_type": "execute_result"
    }
   ],
   "source": [
    "perc = 90.0 # threshold percentage for removing columns based on null values\n",
    "Airbnb = remove_null_columns(Airbnb,perc) # function call\n",
    "Airbnb.shape"
   ]
  },
  {
   "cell_type": "code",
   "execution_count": 54,
   "metadata": {},
   "outputs": [
    {
     "data": {
      "text/plain": [
       "(4854, 30)"
      ]
     },
     "execution_count": 54,
     "metadata": {},
     "output_type": "execute_result"
    }
   ],
   "source": [
    "Airbnb.dropna(inplace=True) # dropping remanining null values\n",
    "Airbnb.shape"
   ]
  },
  {
   "cell_type": "markdown",
   "metadata": {},
   "source": [
    "### 4. Manual selection of columns "
   ]
  },
  {
   "cell_type": "code",
   "execution_count": 55,
   "metadata": {},
   "outputs": [
    {
     "data": {
      "text/html": [
       "<div>\n",
       "<style scoped>\n",
       "    .dataframe tbody tr th:only-of-type {\n",
       "        vertical-align: middle;\n",
       "    }\n",
       "\n",
       "    .dataframe tbody tr th {\n",
       "        vertical-align: top;\n",
       "    }\n",
       "\n",
       "    .dataframe thead th {\n",
       "        text-align: right;\n",
       "    }\n",
       "</style>\n",
       "<table border=\"1\" class=\"dataframe\">\n",
       "  <thead>\n",
       "    <tr style=\"text-align: right;\">\n",
       "      <th></th>\n",
       "      <th>neighbourhood_cleansed</th>\n",
       "      <th>neighbourhood_group_cleansed</th>\n",
       "      <th>room_type</th>\n",
       "      <th>property_type</th>\n",
       "      <th>bedrooms</th>\n",
       "      <th>city</th>\n",
       "      <th>state</th>\n",
       "      <th>latitude</th>\n",
       "      <th>longitude</th>\n",
       "      <th>zipcode</th>\n",
       "      <th>availability_365</th>\n",
       "      <th>price</th>\n",
       "    </tr>\n",
       "  </thead>\n",
       "  <tbody>\n",
       "    <tr>\n",
       "      <th>0</th>\n",
       "      <td>Allerton</td>\n",
       "      <td>Bronx</td>\n",
       "      <td>Entire home/apt</td>\n",
       "      <td>Apartment</td>\n",
       "      <td>2</td>\n",
       "      <td>Bronx</td>\n",
       "      <td>NY</td>\n",
       "      <td>40.85753243</td>\n",
       "      <td>-73.86605467</td>\n",
       "      <td>10462</td>\n",
       "      <td>193.0</td>\n",
       "      <td>130.0</td>\n",
       "    </tr>\n",
       "    <tr>\n",
       "      <th>1</th>\n",
       "      <td>Allerton</td>\n",
       "      <td>Bronx</td>\n",
       "      <td>Entire home/apt</td>\n",
       "      <td>Apartment</td>\n",
       "      <td>2</td>\n",
       "      <td>Bronx</td>\n",
       "      <td>NY</td>\n",
       "      <td>40.87054097</td>\n",
       "      <td>-73.84680709</td>\n",
       "      <td>10469</td>\n",
       "      <td>346.0</td>\n",
       "      <td>150.0</td>\n",
       "    </tr>\n",
       "    <tr>\n",
       "      <th>2</th>\n",
       "      <td>Ditmars Steinway</td>\n",
       "      <td>Queens</td>\n",
       "      <td>Entire home/apt</td>\n",
       "      <td>Apartment</td>\n",
       "      <td>2</td>\n",
       "      <td>New York</td>\n",
       "      <td>NY</td>\n",
       "      <td>40.77171541</td>\n",
       "      <td>-73.91768836</td>\n",
       "      <td>11102</td>\n",
       "      <td>212.0</td>\n",
       "      <td>200.0</td>\n",
       "    </tr>\n",
       "    <tr>\n",
       "      <th>3</th>\n",
       "      <td>Ditmars Steinway</td>\n",
       "      <td>Queens</td>\n",
       "      <td>Private room</td>\n",
       "      <td>Apartment</td>\n",
       "      <td>2</td>\n",
       "      <td>Queens</td>\n",
       "      <td>NY</td>\n",
       "      <td>40.7793726</td>\n",
       "      <td>-73.91553218</td>\n",
       "      <td>11102</td>\n",
       "      <td>180.0</td>\n",
       "      <td>250.0</td>\n",
       "    </tr>\n",
       "    <tr>\n",
       "      <th>4</th>\n",
       "      <td>Ditmars Steinway</td>\n",
       "      <td>Queens</td>\n",
       "      <td>Entire home/apt</td>\n",
       "      <td>Apartment</td>\n",
       "      <td>2</td>\n",
       "      <td>Astoria</td>\n",
       "      <td>NY</td>\n",
       "      <td>40.78080163</td>\n",
       "      <td>-73.91024629</td>\n",
       "      <td>11105</td>\n",
       "      <td>362.0</td>\n",
       "      <td>79.0</td>\n",
       "    </tr>\n",
       "  </tbody>\n",
       "</table>\n",
       "</div>"
      ],
      "text/plain": [
       "  neighbourhood_cleansed neighbourhood_group_cleansed        room_type  \\\n",
       "0               Allerton                        Bronx  Entire home/apt   \n",
       "1               Allerton                        Bronx  Entire home/apt   \n",
       "2       Ditmars Steinway                       Queens  Entire home/apt   \n",
       "3       Ditmars Steinway                       Queens     Private room   \n",
       "4       Ditmars Steinway                       Queens  Entire home/apt   \n",
       "\n",
       "  property_type bedrooms      city state     latitude     longitude zipcode  \\\n",
       "0     Apartment        2     Bronx    NY  40.85753243  -73.86605467   10462   \n",
       "1     Apartment        2     Bronx    NY  40.87054097  -73.84680709   10469   \n",
       "2     Apartment        2  New York    NY  40.77171541  -73.91768836   11102   \n",
       "3     Apartment        2    Queens    NY   40.7793726  -73.91553218   11102   \n",
       "4     Apartment        2   Astoria    NY  40.78080163  -73.91024629   11105   \n",
       "\n",
       "   availability_365  price  \n",
       "0             193.0  130.0  \n",
       "1             346.0  150.0  \n",
       "2             212.0  200.0  \n",
       "3             180.0  250.0  \n",
       "4             362.0   79.0  "
      ]
     },
     "execution_count": 55,
     "metadata": {},
     "output_type": "execute_result"
    }
   ],
   "source": [
    "Airbnb = Airbnb[[\"neighbourhood_cleansed\",\"neighbourhood_group_cleansed\",\"room_type\",\"property_type\",\"bedrooms\",\n",
    "                 \"city\",\"state\",\"latitude\",\"longitude\",\"zipcode\",\"availability_365\",\"price\"]]\n",
    "Airbnb.head()"
   ]
  },
  {
   "cell_type": "code",
   "execution_count": 56,
   "metadata": {},
   "outputs": [
    {
     "data": {
      "text/plain": [
       "(4854, 12)"
      ]
     },
     "execution_count": 56,
     "metadata": {},
     "output_type": "execute_result"
    }
   ],
   "source": [
    "Airbnb.shape # final shape of Airbnb column after feature engineering"
   ]
  },
  {
   "cell_type": "markdown",
   "metadata": {},
   "source": [
    "### 5. Feature Engineering - Creating Annual revenue column"
   ]
  },
  {
   "cell_type": "code",
   "execution_count": 57,
   "metadata": {},
   "outputs": [
    {
     "data": {
      "text/html": [
       "<div>\n",
       "<style scoped>\n",
       "    .dataframe tbody tr th:only-of-type {\n",
       "        vertical-align: middle;\n",
       "    }\n",
       "\n",
       "    .dataframe tbody tr th {\n",
       "        vertical-align: top;\n",
       "    }\n",
       "\n",
       "    .dataframe thead th {\n",
       "        text-align: right;\n",
       "    }\n",
       "</style>\n",
       "<table border=\"1\" class=\"dataframe\">\n",
       "  <thead>\n",
       "    <tr style=\"text-align: right;\">\n",
       "      <th></th>\n",
       "      <th>neighbourhood_cleansed</th>\n",
       "      <th>neighbourhood_group_cleansed</th>\n",
       "      <th>room_type</th>\n",
       "      <th>property_type</th>\n",
       "      <th>bedrooms</th>\n",
       "      <th>city</th>\n",
       "      <th>state</th>\n",
       "      <th>latitude</th>\n",
       "      <th>longitude</th>\n",
       "      <th>zipcode</th>\n",
       "      <th>availability_365</th>\n",
       "      <th>price</th>\n",
       "      <th>Annual Revenue</th>\n",
       "    </tr>\n",
       "  </thead>\n",
       "  <tbody>\n",
       "    <tr>\n",
       "      <th>0</th>\n",
       "      <td>Allerton</td>\n",
       "      <td>Bronx</td>\n",
       "      <td>Entire home/apt</td>\n",
       "      <td>Apartment</td>\n",
       "      <td>2</td>\n",
       "      <td>Bronx</td>\n",
       "      <td>NY</td>\n",
       "      <td>40.85753243</td>\n",
       "      <td>-73.86605467</td>\n",
       "      <td>10462</td>\n",
       "      <td>193.0</td>\n",
       "      <td>130.0</td>\n",
       "      <td>18817.5</td>\n",
       "    </tr>\n",
       "    <tr>\n",
       "      <th>1</th>\n",
       "      <td>Allerton</td>\n",
       "      <td>Bronx</td>\n",
       "      <td>Entire home/apt</td>\n",
       "      <td>Apartment</td>\n",
       "      <td>2</td>\n",
       "      <td>Bronx</td>\n",
       "      <td>NY</td>\n",
       "      <td>40.87054097</td>\n",
       "      <td>-73.84680709</td>\n",
       "      <td>10469</td>\n",
       "      <td>346.0</td>\n",
       "      <td>150.0</td>\n",
       "      <td>38925.0</td>\n",
       "    </tr>\n",
       "    <tr>\n",
       "      <th>2</th>\n",
       "      <td>Ditmars Steinway</td>\n",
       "      <td>Queens</td>\n",
       "      <td>Entire home/apt</td>\n",
       "      <td>Apartment</td>\n",
       "      <td>2</td>\n",
       "      <td>New York</td>\n",
       "      <td>NY</td>\n",
       "      <td>40.77171541</td>\n",
       "      <td>-73.91768836</td>\n",
       "      <td>11102</td>\n",
       "      <td>212.0</td>\n",
       "      <td>200.0</td>\n",
       "      <td>31800.0</td>\n",
       "    </tr>\n",
       "    <tr>\n",
       "      <th>3</th>\n",
       "      <td>Ditmars Steinway</td>\n",
       "      <td>Queens</td>\n",
       "      <td>Private room</td>\n",
       "      <td>Apartment</td>\n",
       "      <td>2</td>\n",
       "      <td>Queens</td>\n",
       "      <td>NY</td>\n",
       "      <td>40.7793726</td>\n",
       "      <td>-73.91553218</td>\n",
       "      <td>11102</td>\n",
       "      <td>180.0</td>\n",
       "      <td>250.0</td>\n",
       "      <td>33750.0</td>\n",
       "    </tr>\n",
       "    <tr>\n",
       "      <th>4</th>\n",
       "      <td>Ditmars Steinway</td>\n",
       "      <td>Queens</td>\n",
       "      <td>Entire home/apt</td>\n",
       "      <td>Apartment</td>\n",
       "      <td>2</td>\n",
       "      <td>Astoria</td>\n",
       "      <td>NY</td>\n",
       "      <td>40.78080163</td>\n",
       "      <td>-73.91024629</td>\n",
       "      <td>11105</td>\n",
       "      <td>362.0</td>\n",
       "      <td>79.0</td>\n",
       "      <td>21448.5</td>\n",
       "    </tr>\n",
       "  </tbody>\n",
       "</table>\n",
       "</div>"
      ],
      "text/plain": [
       "  neighbourhood_cleansed neighbourhood_group_cleansed        room_type  \\\n",
       "0               Allerton                        Bronx  Entire home/apt   \n",
       "1               Allerton                        Bronx  Entire home/apt   \n",
       "2       Ditmars Steinway                       Queens  Entire home/apt   \n",
       "3       Ditmars Steinway                       Queens     Private room   \n",
       "4       Ditmars Steinway                       Queens  Entire home/apt   \n",
       "\n",
       "  property_type bedrooms      city state     latitude     longitude zipcode  \\\n",
       "0     Apartment        2     Bronx    NY  40.85753243  -73.86605467   10462   \n",
       "1     Apartment        2     Bronx    NY  40.87054097  -73.84680709   10469   \n",
       "2     Apartment        2  New York    NY  40.77171541  -73.91768836   11102   \n",
       "3     Apartment        2    Queens    NY   40.7793726  -73.91553218   11102   \n",
       "4     Apartment        2   Astoria    NY  40.78080163  -73.91024629   11105   \n",
       "\n",
       "   availability_365  price  Annual Revenue  \n",
       "0             193.0  130.0         18817.5  \n",
       "1             346.0  150.0         38925.0  \n",
       "2             212.0  200.0         31800.0  \n",
       "3             180.0  250.0         33750.0  \n",
       "4             362.0   79.0         21448.5  "
      ]
     },
     "execution_count": 57,
     "metadata": {},
     "output_type": "execute_result"
    }
   ],
   "source": [
    "Airbnb ['Annual Revenue'] = Airbnb ['price'] * 0.75 * Airbnb ['availability_365']\n",
    "Airbnb.head()"
   ]
  },
  {
   "cell_type": "markdown",
   "metadata": {},
   "source": [
    "# Filtering Zillow Data"
   ]
  },
  {
   "cell_type": "code",
   "execution_count": 58,
   "metadata": {},
   "outputs": [
    {
     "data": {
      "text/html": [
       "<div>\n",
       "<style scoped>\n",
       "    .dataframe tbody tr th:only-of-type {\n",
       "        vertical-align: middle;\n",
       "    }\n",
       "\n",
       "    .dataframe tbody tr th {\n",
       "        vertical-align: top;\n",
       "    }\n",
       "\n",
       "    .dataframe thead th {\n",
       "        text-align: right;\n",
       "    }\n",
       "</style>\n",
       "<table border=\"1\" class=\"dataframe\">\n",
       "  <thead>\n",
       "    <tr style=\"text-align: right;\">\n",
       "      <th></th>\n",
       "      <th>zipcode</th>\n",
       "      <th>State</th>\n",
       "      <th>2011-01</th>\n",
       "      <th>2011-02</th>\n",
       "      <th>2011-03</th>\n",
       "      <th>2011-04</th>\n",
       "      <th>2011-05</th>\n",
       "      <th>2011-06</th>\n",
       "      <th>2011-07</th>\n",
       "      <th>2011-08</th>\n",
       "      <th>...</th>\n",
       "      <th>2016-09</th>\n",
       "      <th>2016-10</th>\n",
       "      <th>2016-11</th>\n",
       "      <th>2016-12</th>\n",
       "      <th>2017-01</th>\n",
       "      <th>2017-02</th>\n",
       "      <th>2017-03</th>\n",
       "      <th>2017-04</th>\n",
       "      <th>2017-05</th>\n",
       "      <th>2017-06</th>\n",
       "    </tr>\n",
       "  </thead>\n",
       "  <tbody>\n",
       "    <tr>\n",
       "      <th>0</th>\n",
       "      <td>10013</td>\n",
       "      <td>NY</td>\n",
       "      <td>2245300.0</td>\n",
       "      <td>2264200.0</td>\n",
       "      <td>2301000.0</td>\n",
       "      <td>2328600.0</td>\n",
       "      <td>2337000.0</td>\n",
       "      <td>2341500.0</td>\n",
       "      <td>2335200.0</td>\n",
       "      <td>2316700.0</td>\n",
       "      <td>...</td>\n",
       "      <td>3347100</td>\n",
       "      <td>3305500</td>\n",
       "      <td>3261100</td>\n",
       "      <td>3244000.0</td>\n",
       "      <td>3231400</td>\n",
       "      <td>3183300</td>\n",
       "      <td>3160200</td>\n",
       "      <td>3193500</td>\n",
       "      <td>3262200</td>\n",
       "      <td>3316500</td>\n",
       "    </tr>\n",
       "    <tr>\n",
       "      <th>1</th>\n",
       "      <td>10014</td>\n",
       "      <td>NY</td>\n",
       "      <td>1611700.0</td>\n",
       "      <td>1631800.0</td>\n",
       "      <td>1648800.0</td>\n",
       "      <td>1670500.0</td>\n",
       "      <td>1674300.0</td>\n",
       "      <td>1657100.0</td>\n",
       "      <td>1659200.0</td>\n",
       "      <td>1661800.0</td>\n",
       "      <td>...</td>\n",
       "      <td>2480800</td>\n",
       "      <td>2443200</td>\n",
       "      <td>2430100</td>\n",
       "      <td>2452900.0</td>\n",
       "      <td>2451200</td>\n",
       "      <td>2441900</td>\n",
       "      <td>2460900</td>\n",
       "      <td>2494900</td>\n",
       "      <td>2498400</td>\n",
       "      <td>2491600</td>\n",
       "    </tr>\n",
       "    <tr>\n",
       "      <th>2</th>\n",
       "      <td>10011</td>\n",
       "      <td>NY</td>\n",
       "      <td>1438600.0</td>\n",
       "      <td>1434100.0</td>\n",
       "      <td>1439300.0</td>\n",
       "      <td>1437700.0</td>\n",
       "      <td>1430300.0</td>\n",
       "      <td>1426800.0</td>\n",
       "      <td>1427800.0</td>\n",
       "      <td>1424600.0</td>\n",
       "      <td>...</td>\n",
       "      <td>2354000</td>\n",
       "      <td>2355500</td>\n",
       "      <td>2352200</td>\n",
       "      <td>2332100.0</td>\n",
       "      <td>2313300</td>\n",
       "      <td>2319600</td>\n",
       "      <td>2342100</td>\n",
       "      <td>2365900</td>\n",
       "      <td>2419700</td>\n",
       "      <td>2480400</td>\n",
       "    </tr>\n",
       "    <tr>\n",
       "      <th>3</th>\n",
       "      <td>10003</td>\n",
       "      <td>NY</td>\n",
       "      <td>1381300.0</td>\n",
       "      <td>1380700.0</td>\n",
       "      <td>1368500.0</td>\n",
       "      <td>1372700.0</td>\n",
       "      <td>1378000.0</td>\n",
       "      <td>1361700.0</td>\n",
       "      <td>1357800.0</td>\n",
       "      <td>1364400.0</td>\n",
       "      <td>...</td>\n",
       "      <td>1932800</td>\n",
       "      <td>1930400</td>\n",
       "      <td>1937500</td>\n",
       "      <td>1935100.0</td>\n",
       "      <td>1915700</td>\n",
       "      <td>1916500</td>\n",
       "      <td>1965700</td>\n",
       "      <td>2045300</td>\n",
       "      <td>2109100</td>\n",
       "      <td>2147000</td>\n",
       "    </tr>\n",
       "    <tr>\n",
       "      <th>4</th>\n",
       "      <td>10023</td>\n",
       "      <td>NY</td>\n",
       "      <td>1399100.0</td>\n",
       "      <td>1399800.0</td>\n",
       "      <td>1389300.0</td>\n",
       "      <td>1384700.0</td>\n",
       "      <td>1380900.0</td>\n",
       "      <td>1367900.0</td>\n",
       "      <td>1365400.0</td>\n",
       "      <td>1375100.0</td>\n",
       "      <td>...</td>\n",
       "      <td>1993500</td>\n",
       "      <td>1980700</td>\n",
       "      <td>1960900</td>\n",
       "      <td>1951300.0</td>\n",
       "      <td>1937800</td>\n",
       "      <td>1929800</td>\n",
       "      <td>1955000</td>\n",
       "      <td>2022400</td>\n",
       "      <td>2095000</td>\n",
       "      <td>2142300</td>\n",
       "    </tr>\n",
       "  </tbody>\n",
       "</table>\n",
       "<p>5 rows × 80 columns</p>\n",
       "</div>"
      ],
      "text/plain": [
       "  zipcode State    2011-01    2011-02    2011-03    2011-04    2011-05  \\\n",
       "0   10013    NY  2245300.0  2264200.0  2301000.0  2328600.0  2337000.0   \n",
       "1   10014    NY  1611700.0  1631800.0  1648800.0  1670500.0  1674300.0   \n",
       "2   10011    NY  1438600.0  1434100.0  1439300.0  1437700.0  1430300.0   \n",
       "3   10003    NY  1381300.0  1380700.0  1368500.0  1372700.0  1378000.0   \n",
       "4   10023    NY  1399100.0  1399800.0  1389300.0  1384700.0  1380900.0   \n",
       "\n",
       "     2011-06    2011-07    2011-08  ...  2016-09  2016-10  2016-11    2016-12  \\\n",
       "0  2341500.0  2335200.0  2316700.0  ...  3347100  3305500  3261100  3244000.0   \n",
       "1  1657100.0  1659200.0  1661800.0  ...  2480800  2443200  2430100  2452900.0   \n",
       "2  1426800.0  1427800.0  1424600.0  ...  2354000  2355500  2352200  2332100.0   \n",
       "3  1361700.0  1357800.0  1364400.0  ...  1932800  1930400  1937500  1935100.0   \n",
       "4  1367900.0  1365400.0  1375100.0  ...  1993500  1980700  1960900  1951300.0   \n",
       "\n",
       "   2017-01  2017-02  2017-03  2017-04  2017-05  2017-06  \n",
       "0  3231400  3183300  3160200  3193500  3262200  3316500  \n",
       "1  2451200  2441900  2460900  2494900  2498400  2491600  \n",
       "2  2313300  2319600  2342100  2365900  2419700  2480400  \n",
       "3  1915700  1916500  1965700  2045300  2109100  2147000  \n",
       "4  1937800  1929800  1955000  2022400  2095000  2142300  \n",
       "\n",
       "[5 rows x 80 columns]"
      ]
     },
     "execution_count": 58,
     "metadata": {},
     "output_type": "execute_result"
    }
   ],
   "source": [
    "cols = ['RegionID', 'City','Metro','CountyName','SizeRank'] # list to hold column values required to be filtered\n",
    "state_z = ['NY'] # list to hold state values needed to be filtered\n",
    "\n",
    "Zillow = filter_zillow_data(Zillow,state_z,cols) # function call\n",
    "Zillow.head()"
   ]
  },
  {
   "cell_type": "code",
   "execution_count": 59,
   "metadata": {},
   "outputs": [
    {
     "data": {
      "text/plain": [
       "(475, 80)"
      ]
     },
     "execution_count": 59,
     "metadata": {},
     "output_type": "execute_result"
    }
   ],
   "source": [
    "Zillow.shape"
   ]
  },
  {
   "cell_type": "markdown",
   "metadata": {},
   "source": [
    "# Joining Airbnb and Zillow"
   ]
  },
  {
   "cell_type": "code",
   "execution_count": 60,
   "metadata": {},
   "outputs": [],
   "source": [
    "# creating a dataframe with zipcode and latest available median price from zillow data\n",
    "Zillow_j = Zillow[['zipcode','2017-06']]"
   ]
  },
  {
   "cell_type": "code",
   "execution_count": 61,
   "metadata": {},
   "outputs": [
    {
     "data": {
      "text/html": [
       "<div>\n",
       "<style scoped>\n",
       "    .dataframe tbody tr th:only-of-type {\n",
       "        vertical-align: middle;\n",
       "    }\n",
       "\n",
       "    .dataframe tbody tr th {\n",
       "        vertical-align: top;\n",
       "    }\n",
       "\n",
       "    .dataframe thead th {\n",
       "        text-align: right;\n",
       "    }\n",
       "</style>\n",
       "<table border=\"1\" class=\"dataframe\">\n",
       "  <thead>\n",
       "    <tr style=\"text-align: right;\">\n",
       "      <th></th>\n",
       "      <th>neighbourhood_cleansed</th>\n",
       "      <th>neighbourhood_group_cleansed</th>\n",
       "      <th>room_type</th>\n",
       "      <th>property_type</th>\n",
       "      <th>bedrooms</th>\n",
       "      <th>city</th>\n",
       "      <th>state</th>\n",
       "      <th>latitude</th>\n",
       "      <th>longitude</th>\n",
       "      <th>zipcode</th>\n",
       "      <th>availability_365</th>\n",
       "      <th>price</th>\n",
       "      <th>Annual Revenue</th>\n",
       "      <th>Median_price_latest</th>\n",
       "    </tr>\n",
       "  </thead>\n",
       "  <tbody>\n",
       "    <tr>\n",
       "      <th>0</th>\n",
       "      <td>Arrochar</td>\n",
       "      <td>Staten Island</td>\n",
       "      <td>Entire home/apt</td>\n",
       "      <td>House</td>\n",
       "      <td>2</td>\n",
       "      <td>Staten Island</td>\n",
       "      <td>NY</td>\n",
       "      <td>40.59526454</td>\n",
       "      <td>-74.06471486</td>\n",
       "      <td>10305</td>\n",
       "      <td>199.0</td>\n",
       "      <td>120.0</td>\n",
       "      <td>17910.00</td>\n",
       "      <td>425100</td>\n",
       "    </tr>\n",
       "    <tr>\n",
       "      <th>1</th>\n",
       "      <td>Arrochar</td>\n",
       "      <td>Staten Island</td>\n",
       "      <td>Entire home/apt</td>\n",
       "      <td>Apartment</td>\n",
       "      <td>2</td>\n",
       "      <td>Staten Island</td>\n",
       "      <td>NY</td>\n",
       "      <td>40.59346945</td>\n",
       "      <td>-74.06913708</td>\n",
       "      <td>10305</td>\n",
       "      <td>197.0</td>\n",
       "      <td>110.0</td>\n",
       "      <td>16252.50</td>\n",
       "      <td>425100</td>\n",
       "    </tr>\n",
       "    <tr>\n",
       "      <th>2</th>\n",
       "      <td>Arrochar</td>\n",
       "      <td>Staten Island</td>\n",
       "      <td>Entire home/apt</td>\n",
       "      <td>House</td>\n",
       "      <td>2</td>\n",
       "      <td>Staten Island</td>\n",
       "      <td>NY</td>\n",
       "      <td>40.59652785</td>\n",
       "      <td>-74.06371161</td>\n",
       "      <td>10305</td>\n",
       "      <td>199.0</td>\n",
       "      <td>150.0</td>\n",
       "      <td>22387.50</td>\n",
       "      <td>425100</td>\n",
       "    </tr>\n",
       "    <tr>\n",
       "      <th>3</th>\n",
       "      <td>Concord</td>\n",
       "      <td>Staten Island</td>\n",
       "      <td>Entire home/apt</td>\n",
       "      <td>Apartment</td>\n",
       "      <td>2</td>\n",
       "      <td>Staten Island</td>\n",
       "      <td>NY</td>\n",
       "      <td>40.6056</td>\n",
       "      <td>-74.0827</td>\n",
       "      <td>10305</td>\n",
       "      <td>83.0</td>\n",
       "      <td>150.0</td>\n",
       "      <td>9337.50</td>\n",
       "      <td>425100</td>\n",
       "    </tr>\n",
       "    <tr>\n",
       "      <th>4</th>\n",
       "      <td>Concord</td>\n",
       "      <td>Staten Island</td>\n",
       "      <td>Entire home/apt</td>\n",
       "      <td>House</td>\n",
       "      <td>2</td>\n",
       "      <td>Staten Island</td>\n",
       "      <td>NY</td>\n",
       "      <td>40.6037</td>\n",
       "      <td>-74.0806</td>\n",
       "      <td>10305</td>\n",
       "      <td>49.0</td>\n",
       "      <td>129.0</td>\n",
       "      <td>4740.75</td>\n",
       "      <td>425100</td>\n",
       "    </tr>\n",
       "  </tbody>\n",
       "</table>\n",
       "</div>"
      ],
      "text/plain": [
       "  neighbourhood_cleansed neighbourhood_group_cleansed        room_type  \\\n",
       "0               Arrochar                Staten Island  Entire home/apt   \n",
       "1               Arrochar                Staten Island  Entire home/apt   \n",
       "2               Arrochar                Staten Island  Entire home/apt   \n",
       "3                Concord                Staten Island  Entire home/apt   \n",
       "4                Concord                Staten Island  Entire home/apt   \n",
       "\n",
       "  property_type bedrooms           city state     latitude     longitude  \\\n",
       "0         House        2  Staten Island    NY  40.59526454  -74.06471486   \n",
       "1     Apartment        2  Staten Island    NY  40.59346945  -74.06913708   \n",
       "2         House        2  Staten Island    NY  40.59652785  -74.06371161   \n",
       "3     Apartment        2  Staten Island    NY      40.6056      -74.0827   \n",
       "4         House        2  Staten Island    NY      40.6037      -74.0806   \n",
       "\n",
       "  zipcode  availability_365  price  Annual Revenue  Median_price_latest  \n",
       "0   10305             199.0  120.0        17910.00               425100  \n",
       "1   10305             197.0  110.0        16252.50               425100  \n",
       "2   10305             199.0  150.0        22387.50               425100  \n",
       "3   10305              83.0  150.0         9337.50               425100  \n",
       "4   10305              49.0  129.0         4740.75               425100  "
      ]
     },
     "execution_count": 61,
     "metadata": {},
     "output_type": "execute_result"
    }
   ],
   "source": [
    "# join airbnb and zillow latest list price\n",
    "Airbnb_zillow = join_zillow_airbnb(Airbnb,Zillow_j,'inner','zipcode') # function call\n",
    "Airbnb_zillow.rename(columns={'2017-06': 'Median_price_latest'}, inplace=True) # renaming 2017-06 column\n",
    "Airbnb_zillow.head()"
   ]
  },
  {
   "cell_type": "markdown",
   "metadata": {},
   "source": [
    "# Converting wide data to long format"
   ]
  },
  {
   "cell_type": "code",
   "execution_count": 62,
   "metadata": {},
   "outputs": [],
   "source": [
    "#converting wide data to long form\n",
    "\n",
    "ziplist = Airbnb_zillow['zipcode'].unique().tolist() # list to hold zip values to be filtered from zillow data\n",
    "\n",
    "zillow_transpose_long = zillow_transpose_long(Zillow,ziplist) # function call"
   ]
  },
  {
   "cell_type": "code",
   "execution_count": 63,
   "metadata": {},
   "outputs": [
    {
     "data": {
      "text/html": [
       "<div>\n",
       "<style scoped>\n",
       "    .dataframe tbody tr th:only-of-type {\n",
       "        vertical-align: middle;\n",
       "    }\n",
       "\n",
       "    .dataframe tbody tr th {\n",
       "        vertical-align: top;\n",
       "    }\n",
       "\n",
       "    .dataframe thead th {\n",
       "        text-align: right;\n",
       "    }\n",
       "</style>\n",
       "<table border=\"1\" class=\"dataframe\">\n",
       "  <thead>\n",
       "    <tr style=\"text-align: right;\">\n",
       "      <th></th>\n",
       "      <th>Time</th>\n",
       "      <th>10013</th>\n",
       "      <th>10014</th>\n",
       "      <th>10011</th>\n",
       "      <th>10003</th>\n",
       "      <th>10023</th>\n",
       "      <th>10028</th>\n",
       "      <th>10022</th>\n",
       "      <th>10021</th>\n",
       "      <th>10128</th>\n",
       "      <th>...</th>\n",
       "      <th>11217</th>\n",
       "      <th>11231</th>\n",
       "      <th>11215</th>\n",
       "      <th>11234</th>\n",
       "      <th>10305</th>\n",
       "      <th>10308</th>\n",
       "      <th>11434</th>\n",
       "      <th>10312</th>\n",
       "      <th>10306</th>\n",
       "      <th>10304</th>\n",
       "    </tr>\n",
       "  </thead>\n",
       "  <tbody>\n",
       "    <tr>\n",
       "      <th>0</th>\n",
       "      <td>2011-01</td>\n",
       "      <td>2.2453e+06</td>\n",
       "      <td>1.6117e+06</td>\n",
       "      <td>1.4386e+06</td>\n",
       "      <td>1.3813e+06</td>\n",
       "      <td>1.3991e+06</td>\n",
       "      <td>1.3107e+06</td>\n",
       "      <td>1.3766e+06</td>\n",
       "      <td>1.2225e+06</td>\n",
       "      <td>974500</td>\n",
       "      <td>...</td>\n",
       "      <td>628500</td>\n",
       "      <td>642900</td>\n",
       "      <td>573100</td>\n",
       "      <td>387100</td>\n",
       "      <td>316400</td>\n",
       "      <td>322400</td>\n",
       "      <td>276800</td>\n",
       "      <td>293900</td>\n",
       "      <td>289400</td>\n",
       "      <td>254000</td>\n",
       "    </tr>\n",
       "    <tr>\n",
       "      <th>1</th>\n",
       "      <td>2011-02</td>\n",
       "      <td>2.2642e+06</td>\n",
       "      <td>1.6318e+06</td>\n",
       "      <td>1.4341e+06</td>\n",
       "      <td>1.3807e+06</td>\n",
       "      <td>1.3998e+06</td>\n",
       "      <td>1.3182e+06</td>\n",
       "      <td>1.3724e+06</td>\n",
       "      <td>1.2306e+06</td>\n",
       "      <td>965200</td>\n",
       "      <td>...</td>\n",
       "      <td>630900</td>\n",
       "      <td>642800</td>\n",
       "      <td>579600</td>\n",
       "      <td>385300</td>\n",
       "      <td>315400</td>\n",
       "      <td>322000</td>\n",
       "      <td>263700</td>\n",
       "      <td>293500</td>\n",
       "      <td>288400</td>\n",
       "      <td>253700</td>\n",
       "    </tr>\n",
       "    <tr>\n",
       "      <th>2</th>\n",
       "      <td>2011-03</td>\n",
       "      <td>2.301e+06</td>\n",
       "      <td>1.6488e+06</td>\n",
       "      <td>1.4393e+06</td>\n",
       "      <td>1.3685e+06</td>\n",
       "      <td>1.3893e+06</td>\n",
       "      <td>1.3219e+06</td>\n",
       "      <td>1.3781e+06</td>\n",
       "      <td>1.2474e+06</td>\n",
       "      <td>963200</td>\n",
       "      <td>...</td>\n",
       "      <td>635000</td>\n",
       "      <td>643000</td>\n",
       "      <td>588800</td>\n",
       "      <td>380700</td>\n",
       "      <td>313000</td>\n",
       "      <td>320600</td>\n",
       "      <td>251400</td>\n",
       "      <td>291700</td>\n",
       "      <td>288200</td>\n",
       "      <td>253000</td>\n",
       "    </tr>\n",
       "    <tr>\n",
       "      <th>3</th>\n",
       "      <td>2011-04</td>\n",
       "      <td>2.3286e+06</td>\n",
       "      <td>1.6705e+06</td>\n",
       "      <td>1.4377e+06</td>\n",
       "      <td>1.3727e+06</td>\n",
       "      <td>1.3847e+06</td>\n",
       "      <td>1.3092e+06</td>\n",
       "      <td>1.3846e+06</td>\n",
       "      <td>1.258e+06</td>\n",
       "      <td>959200</td>\n",
       "      <td>...</td>\n",
       "      <td>636700</td>\n",
       "      <td>646800</td>\n",
       "      <td>592200</td>\n",
       "      <td>377000</td>\n",
       "      <td>308700</td>\n",
       "      <td>319200</td>\n",
       "      <td>245500</td>\n",
       "      <td>289300</td>\n",
       "      <td>285700</td>\n",
       "      <td>251400</td>\n",
       "    </tr>\n",
       "    <tr>\n",
       "      <th>4</th>\n",
       "      <td>2011-05</td>\n",
       "      <td>2.337e+06</td>\n",
       "      <td>1.6743e+06</td>\n",
       "      <td>1.4303e+06</td>\n",
       "      <td>1.378e+06</td>\n",
       "      <td>1.3809e+06</td>\n",
       "      <td>1.2987e+06</td>\n",
       "      <td>1.3896e+06</td>\n",
       "      <td>1.2508e+06</td>\n",
       "      <td>964400</td>\n",
       "      <td>...</td>\n",
       "      <td>635600</td>\n",
       "      <td>651700</td>\n",
       "      <td>592700</td>\n",
       "      <td>377900</td>\n",
       "      <td>306000</td>\n",
       "      <td>318300</td>\n",
       "      <td>243900</td>\n",
       "      <td>287400</td>\n",
       "      <td>281900</td>\n",
       "      <td>250100</td>\n",
       "    </tr>\n",
       "  </tbody>\n",
       "</table>\n",
       "<p>5 rows × 23 columns</p>\n",
       "</div>"
      ],
      "text/plain": [
       "      Time       10013       10014       10011       10003       10023  \\\n",
       "0  2011-01  2.2453e+06  1.6117e+06  1.4386e+06  1.3813e+06  1.3991e+06   \n",
       "1  2011-02  2.2642e+06  1.6318e+06  1.4341e+06  1.3807e+06  1.3998e+06   \n",
       "2  2011-03   2.301e+06  1.6488e+06  1.4393e+06  1.3685e+06  1.3893e+06   \n",
       "3  2011-04  2.3286e+06  1.6705e+06  1.4377e+06  1.3727e+06  1.3847e+06   \n",
       "4  2011-05   2.337e+06  1.6743e+06  1.4303e+06   1.378e+06  1.3809e+06   \n",
       "\n",
       "        10028       10022       10021   10128  ...   11217   11231   11215  \\\n",
       "0  1.3107e+06  1.3766e+06  1.2225e+06  974500  ...  628500  642900  573100   \n",
       "1  1.3182e+06  1.3724e+06  1.2306e+06  965200  ...  630900  642800  579600   \n",
       "2  1.3219e+06  1.3781e+06  1.2474e+06  963200  ...  635000  643000  588800   \n",
       "3  1.3092e+06  1.3846e+06   1.258e+06  959200  ...  636700  646800  592200   \n",
       "4  1.2987e+06  1.3896e+06  1.2508e+06  964400  ...  635600  651700  592700   \n",
       "\n",
       "    11234   10305   10308   11434   10312   10306   10304  \n",
       "0  387100  316400  322400  276800  293900  289400  254000  \n",
       "1  385300  315400  322000  263700  293500  288400  253700  \n",
       "2  380700  313000  320600  251400  291700  288200  253000  \n",
       "3  377000  308700  319200  245500  289300  285700  251400  \n",
       "4  377900  306000  318300  243900  287400  281900  250100  \n",
       "\n",
       "[5 rows x 23 columns]"
      ]
     },
     "execution_count": 63,
     "metadata": {},
     "output_type": "execute_result"
    }
   ],
   "source": [
    "zillow_transpose_long.head() # inspecting the long format time series data"
   ]
  },
  {
   "cell_type": "markdown",
   "metadata": {},
   "source": [
    "# Visualizing the zipcode price distributions through a histogram"
   ]
  },
  {
   "cell_type": "code",
   "execution_count": 64,
   "metadata": {},
   "outputs": [
    {
     "data": {
      "text/plain": [
       "array([[<AxesSubplot:title={'center':'10013'}>,\n",
       "        <AxesSubplot:title={'center':'10014'}>,\n",
       "        <AxesSubplot:title={'center':'10011'}>,\n",
       "        <AxesSubplot:title={'center':'10003'}>,\n",
       "        <AxesSubplot:title={'center':'10023'}>],\n",
       "       [<AxesSubplot:title={'center':'10028'}>,\n",
       "        <AxesSubplot:title={'center':'10022'}>,\n",
       "        <AxesSubplot:title={'center':'10021'}>,\n",
       "        <AxesSubplot:title={'center':'10128'}>,\n",
       "        <AxesSubplot:title={'center':'10036'}>],\n",
       "       [<AxesSubplot:title={'center':'10025'}>,\n",
       "        <AxesSubplot:title={'center':'11201'}>,\n",
       "        <AxesSubplot:title={'center':'11217'}>,\n",
       "        <AxesSubplot:title={'center':'11231'}>,\n",
       "        <AxesSubplot:title={'center':'11215'}>],\n",
       "       [<AxesSubplot:title={'center':'11234'}>,\n",
       "        <AxesSubplot:title={'center':'10305'}>,\n",
       "        <AxesSubplot:title={'center':'10308'}>,\n",
       "        <AxesSubplot:title={'center':'11434'}>,\n",
       "        <AxesSubplot:title={'center':'10312'}>],\n",
       "       [<AxesSubplot:title={'center':'10306'}>,\n",
       "        <AxesSubplot:title={'center':'10304'}>, <AxesSubplot:>,\n",
       "        <AxesSubplot:>, <AxesSubplot:>]], dtype=object)"
      ]
     },
     "execution_count": 64,
     "metadata": {},
     "output_type": "execute_result"
    },
    {
     "data": {
      "image/png": "[encoded data removed]",
      "text/plain": [
       "<Figure size 432x288 with 25 Axes>"
      ]
     },
     "metadata": {},
     "output_type": "display_data"
    }
   ],
   "source": [
    "hist = zillow_transpose_long.iloc[:,1:].astype(int)\n",
    "hist.hist()"
   ]
  },
  {
   "cell_type": "markdown",
   "metadata": {},
   "source": [
    "Observations:\n",
    "   \n",
    "1. Most of the columns are positively skewed. In such scenarios, median is a better measure of central tendency than mean since mean > median and it is resistent to outliers compared to mean."
   ]
  },
  {
   "cell_type": "markdown",
   "metadata": {},
   "source": [
    "# Visualizing the trends in Median List Prices by Zipcodes through time"
   ]
  },
  {
   "cell_type": "code",
   "execution_count": 65,
   "metadata": {},
   "outputs": [
    {
     "data": {
      "text/plain": [
       "<Figure size 1080x1080 with 0 Axes>"
      ]
     },
     "metadata": {},
     "output_type": "display_data"
    },
    {
     "data": {
      "image/png": "[encoded data removed]",
      "text/plain": [
       "<Figure size 432x288 with 1 Axes>"
      ]
     },
     "metadata": {},
     "output_type": "display_data"
    }
   ],
   "source": [
    "plt.figure(figsize=(15,15))\n",
    "zillow_transpose_long.plot()\n",
    "\n",
    "plt.xticks(zillow_transpose_long.index+1, zillow_transpose_long['Time'],fontsize=25)\n",
    "plt.yticks(fontsize=25)\n",
    "\n",
    "plt.title(\"Visualizing the trend in different zipcodes\", loc='center',fontsize=30)\n",
    "plt.xlabel('Time Period',fontsize=25)\n",
    "plt.ylabel('Price $ - (*10^6)',fontsize=25)\n",
    "plt.locator_params(axis=\"x\", nbins=6)\n",
    "plt.legend(fontsize='xx-large')\n",
    "\n",
    "plt.show()"
   ]
  },
  {
   "cell_type": "markdown",
   "metadata": {},
   "source": [
    "# Time Series forecasting using Prophet"
   ]
  },
  {
   "cell_type": "code",
   "execution_count": 66,
   "metadata": {},
   "outputs": [
    {
     "name": "stderr",
     "output_type": "stream",
     "text": [
      "INFO:fbprophet:Disabling weekly seasonality. Run prophet with weekly_seasonality=True to override this.\n",
      "INFO:fbprophet:Disabling daily seasonality. Run prophet with daily_seasonality=True to override this.\n",
      "INFO:fbprophet:Disabling weekly seasonality. Run prophet with weekly_seasonality=True to override this.\n",
      "INFO:fbprophet:Disabling daily seasonality. Run prophet with daily_seasonality=True to override this.\n",
      "INFO:fbprophet:Disabling weekly seasonality. Run prophet with weekly_seasonality=True to override this.\n",
      "INFO:fbprophet:Disabling daily seasonality. Run prophet with daily_seasonality=True to override this.\n",
      "INFO:fbprophet:Disabling weekly seasonality. Run prophet with weekly_seasonality=True to override this.\n",
      "INFO:fbprophet:Disabling daily seasonality. Run prophet with daily_seasonality=True to override this.\n",
      "INFO:fbprophet:Disabling weekly seasonality. Run prophet with weekly_seasonality=True to override this.\n",
      "INFO:fbprophet:Disabling daily seasonality. Run prophet with daily_seasonality=True to override this.\n",
      "INFO:fbprophet:Disabling weekly seasonality. Run prophet with weekly_seasonality=True to override this.\n",
      "INFO:fbprophet:Disabling daily seasonality. Run prophet with daily_seasonality=True to override this.\n",
      "INFO:fbprophet:Disabling weekly seasonality. Run prophet with weekly_seasonality=True to override this.\n",
      "INFO:fbprophet:Disabling daily seasonality. Run prophet with daily_seasonality=True to override this.\n",
      "INFO:fbprophet:Disabling weekly seasonality. Run prophet with weekly_seasonality=True to override this.\n",
      "INFO:fbprophet:Disabling daily seasonality. Run prophet with daily_seasonality=True to override this.\n",
      "INFO:fbprophet:Disabling weekly seasonality. Run prophet with weekly_seasonality=True to override this.\n",
      "INFO:fbprophet:Disabling daily seasonality. Run prophet with daily_seasonality=True to override this.\n",
      "INFO:fbprophet:Disabling weekly seasonality. Run prophet with weekly_seasonality=True to override this.\n",
      "INFO:fbprophet:Disabling daily seasonality. Run prophet with daily_seasonality=True to override this.\n",
      "INFO:fbprophet:Disabling weekly seasonality. Run prophet with weekly_seasonality=True to override this.\n",
      "INFO:fbprophet:Disabling daily seasonality. Run prophet with daily_seasonality=True to override this.\n",
      "INFO:fbprophet:Disabling weekly seasonality. Run prophet with weekly_seasonality=True to override this.\n",
      "INFO:fbprophet:Disabling daily seasonality. Run prophet with daily_seasonality=True to override this.\n",
      "INFO:fbprophet:Disabling weekly seasonality. Run prophet with weekly_seasonality=True to override this.\n",
      "INFO:fbprophet:Disabling daily seasonality. Run prophet with daily_seasonality=True to override this.\n",
      "INFO:fbprophet:Disabling weekly seasonality. Run prophet with weekly_seasonality=True to override this.\n",
      "INFO:fbprophet:Disabling daily seasonality. Run prophet with daily_seasonality=True to override this.\n",
      "INFO:fbprophet:Disabling weekly seasonality. Run prophet with weekly_seasonality=True to override this.\n",
      "INFO:fbprophet:Disabling daily seasonality. Run prophet with daily_seasonality=True to override this.\n",
      "INFO:fbprophet:Disabling weekly seasonality. Run prophet with weekly_seasonality=True to override this.\n",
      "INFO:fbprophet:Disabling daily seasonality. Run prophet with daily_seasonality=True to override this.\n",
      "INFO:fbprophet:Disabling weekly seasonality. Run prophet with weekly_seasonality=True to override this.\n",
      "INFO:fbprophet:Disabling daily seasonality. Run prophet with daily_seasonality=True to override this.\n",
      "INFO:fbprophet:Disabling weekly seasonality. Run prophet with weekly_seasonality=True to override this.\n",
      "INFO:fbprophet:Disabling daily seasonality. Run prophet with daily_seasonality=True to override this.\n",
      "INFO:fbprophet:Disabling weekly seasonality. Run prophet with weekly_seasonality=True to override this.\n",
      "INFO:fbprophet:Disabling daily seasonality. Run prophet with daily_seasonality=True to override this.\n",
      "INFO:fbprophet:Disabling weekly seasonality. Run prophet with weekly_seasonality=True to override this.\n",
      "INFO:fbprophet:Disabling daily seasonality. Run prophet with daily_seasonality=True to override this.\n",
      "INFO:fbprophet:Disabling weekly seasonality. Run prophet with weekly_seasonality=True to override this.\n",
      "INFO:fbprophet:Disabling daily seasonality. Run prophet with daily_seasonality=True to override this.\n",
      "INFO:fbprophet:Disabling weekly seasonality. Run prophet with weekly_seasonality=True to override this.\n",
      "INFO:fbprophet:Disabling daily seasonality. Run prophet with daily_seasonality=True to override this.\n"
     ]
    },
    {
     "data": {
      "text/html": [
       "<div>\n",
       "<style scoped>\n",
       "    .dataframe tbody tr th:only-of-type {\n",
       "        vertical-align: middle;\n",
       "    }\n",
       "\n",
       "    .dataframe tbody tr th {\n",
       "        vertical-align: top;\n",
       "    }\n",
       "\n",
       "    .dataframe thead th {\n",
       "        text-align: right;\n",
       "    }\n",
       "</style>\n",
       "<table border=\"1\" class=\"dataframe\">\n",
       "  <thead>\n",
       "    <tr style=\"text-align: right;\">\n",
       "      <th></th>\n",
       "      <th>2022-06</th>\n",
       "      <th>2027-06</th>\n",
       "      <th>2032-06</th>\n",
       "      <th>zipcode</th>\n",
       "    </tr>\n",
       "  </thead>\n",
       "  <tbody>\n",
       "    <tr>\n",
       "      <th>0</th>\n",
       "      <td>3.44961e+06</td>\n",
       "      <td>3.61978e+06</td>\n",
       "      <td>3.75452e+06</td>\n",
       "      <td>10013</td>\n",
       "    </tr>\n",
       "    <tr>\n",
       "      <th>0</th>\n",
       "      <td>3.24763e+06</td>\n",
       "      <td>3.97424e+06</td>\n",
       "      <td>4.69178e+06</td>\n",
       "      <td>10014</td>\n",
       "    </tr>\n",
       "    <tr>\n",
       "      <th>0</th>\n",
       "      <td>3.35648e+06</td>\n",
       "      <td>4.27815e+06</td>\n",
       "      <td>5.17868e+06</td>\n",
       "      <td>10011</td>\n",
       "    </tr>\n",
       "    <tr>\n",
       "      <th>0</th>\n",
       "      <td>2.59426e+06</td>\n",
       "      <td>3.13519e+06</td>\n",
       "      <td>3.67631e+06</td>\n",
       "      <td>10003</td>\n",
       "    </tr>\n",
       "    <tr>\n",
       "      <th>0</th>\n",
       "      <td>2.85661e+06</td>\n",
       "      <td>3.64929e+06</td>\n",
       "      <td>4.42749e+06</td>\n",
       "      <td>10023</td>\n",
       "    </tr>\n",
       "  </tbody>\n",
       "</table>\n",
       "</div>"
      ],
      "text/plain": [
       "       2022-06      2027-06      2032-06 zipcode\n",
       "0  3.44961e+06  3.61978e+06  3.75452e+06   10013\n",
       "0  3.24763e+06  3.97424e+06  4.69178e+06   10014\n",
       "0  3.35648e+06  4.27815e+06  5.17868e+06   10011\n",
       "0  2.59426e+06  3.13519e+06  3.67631e+06   10003\n",
       "0  2.85661e+06  3.64929e+06  4.42749e+06   10023"
      ]
     },
     "execution_count": 66,
     "metadata": {},
     "output_type": "execute_result"
    }
   ],
   "source": [
    "future = ['2022-06-01','2027-06-01','2032-06-01'] # list to hold future time periods for prediction\n",
    "f_zip = timeseries_forecast(zillow_transpose_long,future) # function call\n",
    "f_zip.head()"
   ]
  },
  {
   "cell_type": "markdown",
   "metadata": {},
   "source": [
    "# Joining the forecasted house prices with Airbnb Zillow dataframe"
   ]
  },
  {
   "cell_type": "code",
   "execution_count": 67,
   "metadata": {},
   "outputs": [
    {
     "data": {
      "text/html": [
       "<div>\n",
       "<style scoped>\n",
       "    .dataframe tbody tr th:only-of-type {\n",
       "        vertical-align: middle;\n",
       "    }\n",
       "\n",
       "    .dataframe tbody tr th {\n",
       "        vertical-align: top;\n",
       "    }\n",
       "\n",
       "    .dataframe thead th {\n",
       "        text-align: right;\n",
       "    }\n",
       "</style>\n",
       "<table border=\"1\" class=\"dataframe\">\n",
       "  <thead>\n",
       "    <tr style=\"text-align: right;\">\n",
       "      <th></th>\n",
       "      <th>neighbourhood_cleansed</th>\n",
       "      <th>neighbourhood_group_cleansed</th>\n",
       "      <th>room_type</th>\n",
       "      <th>property_type</th>\n",
       "      <th>bedrooms</th>\n",
       "      <th>city</th>\n",
       "      <th>state</th>\n",
       "      <th>latitude</th>\n",
       "      <th>longitude</th>\n",
       "      <th>zipcode</th>\n",
       "      <th>availability_365</th>\n",
       "      <th>price</th>\n",
       "      <th>Annual Revenue</th>\n",
       "      <th>Median_price_latest</th>\n",
       "      <th>forecast_5yr</th>\n",
       "      <th>forecast_10yr</th>\n",
       "      <th>forecast_15yr</th>\n",
       "    </tr>\n",
       "  </thead>\n",
       "  <tbody>\n",
       "    <tr>\n",
       "      <th>0</th>\n",
       "      <td>Arrochar</td>\n",
       "      <td>Staten Island</td>\n",
       "      <td>Entire home/apt</td>\n",
       "      <td>House</td>\n",
       "      <td>2</td>\n",
       "      <td>Staten Island</td>\n",
       "      <td>NY</td>\n",
       "      <td>40.59526454</td>\n",
       "      <td>-74.06471486</td>\n",
       "      <td>10305</td>\n",
       "      <td>199.0</td>\n",
       "      <td>120.0</td>\n",
       "      <td>17910.00</td>\n",
       "      <td>425100</td>\n",
       "      <td>710289</td>\n",
       "      <td>1.00125e+06</td>\n",
       "      <td>1.29133e+06</td>\n",
       "    </tr>\n",
       "    <tr>\n",
       "      <th>1</th>\n",
       "      <td>Arrochar</td>\n",
       "      <td>Staten Island</td>\n",
       "      <td>Entire home/apt</td>\n",
       "      <td>Apartment</td>\n",
       "      <td>2</td>\n",
       "      <td>Staten Island</td>\n",
       "      <td>NY</td>\n",
       "      <td>40.59346945</td>\n",
       "      <td>-74.06913708</td>\n",
       "      <td>10305</td>\n",
       "      <td>197.0</td>\n",
       "      <td>110.0</td>\n",
       "      <td>16252.50</td>\n",
       "      <td>425100</td>\n",
       "      <td>710289</td>\n",
       "      <td>1.00125e+06</td>\n",
       "      <td>1.29133e+06</td>\n",
       "    </tr>\n",
       "    <tr>\n",
       "      <th>2</th>\n",
       "      <td>Arrochar</td>\n",
       "      <td>Staten Island</td>\n",
       "      <td>Entire home/apt</td>\n",
       "      <td>House</td>\n",
       "      <td>2</td>\n",
       "      <td>Staten Island</td>\n",
       "      <td>NY</td>\n",
       "      <td>40.59652785</td>\n",
       "      <td>-74.06371161</td>\n",
       "      <td>10305</td>\n",
       "      <td>199.0</td>\n",
       "      <td>150.0</td>\n",
       "      <td>22387.50</td>\n",
       "      <td>425100</td>\n",
       "      <td>710289</td>\n",
       "      <td>1.00125e+06</td>\n",
       "      <td>1.29133e+06</td>\n",
       "    </tr>\n",
       "    <tr>\n",
       "      <th>3</th>\n",
       "      <td>Concord</td>\n",
       "      <td>Staten Island</td>\n",
       "      <td>Entire home/apt</td>\n",
       "      <td>Apartment</td>\n",
       "      <td>2</td>\n",
       "      <td>Staten Island</td>\n",
       "      <td>NY</td>\n",
       "      <td>40.6056</td>\n",
       "      <td>-74.0827</td>\n",
       "      <td>10305</td>\n",
       "      <td>83.0</td>\n",
       "      <td>150.0</td>\n",
       "      <td>9337.50</td>\n",
       "      <td>425100</td>\n",
       "      <td>710289</td>\n",
       "      <td>1.00125e+06</td>\n",
       "      <td>1.29133e+06</td>\n",
       "    </tr>\n",
       "    <tr>\n",
       "      <th>4</th>\n",
       "      <td>Concord</td>\n",
       "      <td>Staten Island</td>\n",
       "      <td>Entire home/apt</td>\n",
       "      <td>House</td>\n",
       "      <td>2</td>\n",
       "      <td>Staten Island</td>\n",
       "      <td>NY</td>\n",
       "      <td>40.6037</td>\n",
       "      <td>-74.0806</td>\n",
       "      <td>10305</td>\n",
       "      <td>49.0</td>\n",
       "      <td>129.0</td>\n",
       "      <td>4740.75</td>\n",
       "      <td>425100</td>\n",
       "      <td>710289</td>\n",
       "      <td>1.00125e+06</td>\n",
       "      <td>1.29133e+06</td>\n",
       "    </tr>\n",
       "  </tbody>\n",
       "</table>\n",
       "</div>"
      ],
      "text/plain": [
       "  neighbourhood_cleansed neighbourhood_group_cleansed        room_type  \\\n",
       "0               Arrochar                Staten Island  Entire home/apt   \n",
       "1               Arrochar                Staten Island  Entire home/apt   \n",
       "2               Arrochar                Staten Island  Entire home/apt   \n",
       "3                Concord                Staten Island  Entire home/apt   \n",
       "4                Concord                Staten Island  Entire home/apt   \n",
       "\n",
       "  property_type bedrooms           city state     latitude     longitude  \\\n",
       "0         House        2  Staten Island    NY  40.59526454  -74.06471486   \n",
       "1     Apartment        2  Staten Island    NY  40.59346945  -74.06913708   \n",
       "2         House        2  Staten Island    NY  40.59652785  -74.06371161   \n",
       "3     Apartment        2  Staten Island    NY      40.6056      -74.0827   \n",
       "4         House        2  Staten Island    NY      40.6037      -74.0806   \n",
       "\n",
       "  zipcode  availability_365  price  Annual Revenue  Median_price_latest  \\\n",
       "0   10305             199.0  120.0        17910.00               425100   \n",
       "1   10305             197.0  110.0        16252.50               425100   \n",
       "2   10305             199.0  150.0        22387.50               425100   \n",
       "3   10305              83.0  150.0         9337.50               425100   \n",
       "4   10305              49.0  129.0         4740.75               425100   \n",
       "\n",
       "  forecast_5yr forecast_10yr forecast_15yr  \n",
       "0       710289   1.00125e+06   1.29133e+06  \n",
       "1       710289   1.00125e+06   1.29133e+06  \n",
       "2       710289   1.00125e+06   1.29133e+06  \n",
       "3       710289   1.00125e+06   1.29133e+06  \n",
       "4       710289   1.00125e+06   1.29133e+06  "
      ]
     },
     "execution_count": 67,
     "metadata": {},
     "output_type": "execute_result"
    }
   ],
   "source": [
    "# joining the forecasted house prices with Airbnb Zillow dataframe\n",
    "forecast = join_zillow_airbnb(Airbnb_zillow,f_zip,'inner','zipcode')\n",
    "forecast.rename(columns={'2022-06': 'forecast_5yr','2027-06': 'forecast_10yr','2032-06': 'forecast_15yr'}, inplace=True)\n",
    "forecast.head()"
   ]
  },
  {
   "cell_type": "code",
   "execution_count": 68,
   "metadata": {},
   "outputs": [
    {
     "data": {
      "text/html": [
       "<div>\n",
       "<style scoped>\n",
       "    .dataframe tbody tr th:only-of-type {\n",
       "        vertical-align: middle;\n",
       "    }\n",
       "\n",
       "    .dataframe tbody tr th {\n",
       "        vertical-align: top;\n",
       "    }\n",
       "\n",
       "    .dataframe thead th {\n",
       "        text-align: right;\n",
       "    }\n",
       "</style>\n",
       "<table border=\"1\" class=\"dataframe\">\n",
       "  <thead>\n",
       "    <tr style=\"text-align: right;\">\n",
       "      <th></th>\n",
       "      <th>zipcode</th>\n",
       "      <th>count</th>\n",
       "    </tr>\n",
       "  </thead>\n",
       "  <tbody>\n",
       "    <tr>\n",
       "      <th>0</th>\n",
       "      <td>11215</td>\n",
       "      <td>140</td>\n",
       "    </tr>\n",
       "    <tr>\n",
       "      <th>1</th>\n",
       "      <td>10003</td>\n",
       "      <td>132</td>\n",
       "    </tr>\n",
       "    <tr>\n",
       "      <th>2</th>\n",
       "      <td>10025</td>\n",
       "      <td>111</td>\n",
       "    </tr>\n",
       "    <tr>\n",
       "      <th>3</th>\n",
       "      <td>10036</td>\n",
       "      <td>107</td>\n",
       "    </tr>\n",
       "    <tr>\n",
       "      <th>4</th>\n",
       "      <td>10011</td>\n",
       "      <td>101</td>\n",
       "    </tr>\n",
       "  </tbody>\n",
       "</table>\n",
       "</div>"
      ],
      "text/plain": [
       "  zipcode  count\n",
       "0   11215    140\n",
       "1   10003    132\n",
       "2   10025    111\n",
       "3   10036    107\n",
       "4   10011    101"
      ]
     },
     "execution_count": 68,
     "metadata": {},
     "output_type": "execute_result"
    }
   ],
   "source": [
    "# creating a dataframe to count of property listings for each zipcode\n",
    "listings = forecast.zipcode.value_counts()\n",
    "listings = pd.DataFrame(listings)\n",
    "listings.reset_index(level=0, inplace=True)\n",
    "listings.rename(columns={'index': 'zipcode','zipcode': 'count'}, inplace=True)\n",
    "listings.head()"
   ]
  },
  {
   "cell_type": "code",
   "execution_count": 69,
   "metadata": {},
   "outputs": [
    {
     "data": {
      "text/plain": [
       "Text(0, 0.5, 'No of listings')"
      ]
     },
     "execution_count": 69,
     "metadata": {},
     "output_type": "execute_result"
    },
    {
     "data": {
      "image/png": "[encoded data removed]",
      "text/plain": [
       "<Figure size 1440x720 with 1 Axes>"
      ]
     },
     "metadata": {},
     "output_type": "display_data"
    }
   ],
   "source": [
    "# visualizing the No of Listings per Zipcode using barplot\n",
    "\n",
    "plt.figure(figsize=(20,10))\n",
    "sns.barplot(x = listings['zipcode'], y = listings ['count'])\n",
    "plt.title(\"No of Listings per Zipcode\", fontsize=30)\n",
    "plt.xlabel(\"Zipcode\", fontsize=16)\n",
    "plt.ylabel(\"No of listings\", fontsize=16)"
   ]
  },
  {
   "cell_type": "markdown",
   "metadata": {},
   "source": [
    "Obdervations:\n",
    "\n",
    "1. Zipcodes like 10308, 10312, 10306, 10304, 11234, 11434, 10305 have lesser than 15 listings.\n",
    "2. Zipcodes like 11215, 10003, 10025, 10036 have more than a 100 listings."
   ]
  },
  {
   "cell_type": "markdown",
   "metadata": {},
   "source": [
    "# Final dataframes after computing Payback period and 5 year ROI"
   ]
  },
  {
   "cell_type": "code",
   "execution_count": 70,
   "metadata": {},
   "outputs": [
    {
     "ename": "NameError",
     "evalue": "name 'df1' is not defined",
     "output_type": "error",
     "traceback": [
      "\u001b[1;31m---------------------------------------------------------------------------\u001b[0m",
      "\u001b[1;31mNameError\u001b[0m                                 Traceback (most recent call last)",
      "\u001b[1;32m<ipython-input-70-d882b753129d>\u001b[0m in \u001b[0;36m<module>\u001b[1;34m\u001b[0m\n\u001b[0;32m      1\u001b[0m \u001b[1;31m# dataframe after computing payback period\u001b[0m\u001b[1;33m\u001b[0m\u001b[1;33m\u001b[0m\u001b[1;33m\u001b[0m\u001b[0m\n\u001b[1;32m----> 2\u001b[1;33m \u001b[0mpayback\u001b[0m \u001b[1;33m=\u001b[0m \u001b[0mbreakeven\u001b[0m\u001b[1;33m(\u001b[0m\u001b[0mforecast\u001b[0m\u001b[1;33m,\u001b[0m\u001b[0mlistings\u001b[0m\u001b[1;33m,\u001b[0m\u001b[1;36m15\u001b[0m\u001b[1;33m,\u001b[0m\u001b[1;36m5\u001b[0m\u001b[1;33m)\u001b[0m \u001b[1;31m# function call\u001b[0m\u001b[1;33m\u001b[0m\u001b[1;33m\u001b[0m\u001b[0m\n\u001b[0m\u001b[0;32m      3\u001b[0m \u001b[0mpayback\u001b[0m\u001b[1;33m.\u001b[0m\u001b[0mhead\u001b[0m\u001b[1;33m(\u001b[0m\u001b[1;33m)\u001b[0m\u001b[1;33m\u001b[0m\u001b[1;33m\u001b[0m\u001b[0m\n",
      "\u001b[1;32m<ipython-input-12-2adca10db83e>\u001b[0m in \u001b[0;36mbreakeven\u001b[1;34m(forecast, listings, listings_count, price_inc_rate)\u001b[0m\n\u001b[0;32m     14\u001b[0m     \u001b[1;31m# group by to get median house price of each zipcode\u001b[0m\u001b[1;33m\u001b[0m\u001b[1;33m\u001b[0m\u001b[1;33m\u001b[0m\u001b[0m\n\u001b[0;32m     15\u001b[0m     \u001b[0mdf\u001b[0m \u001b[1;33m=\u001b[0m \u001b[0mforecast\u001b[0m\u001b[1;33m.\u001b[0m\u001b[0mgroupby\u001b[0m\u001b[1;33m(\u001b[0m\u001b[1;34m'zipcode'\u001b[0m\u001b[1;33m)\u001b[0m\u001b[1;33m[\u001b[0m\u001b[1;33m[\u001b[0m\u001b[1;34m'Annual Revenue'\u001b[0m\u001b[1;33m,\u001b[0m\u001b[1;34m'Median_price_latest'\u001b[0m\u001b[1;33m]\u001b[0m\u001b[1;33m]\u001b[0m\u001b[1;33m.\u001b[0m\u001b[0mmedian\u001b[0m\u001b[1;33m(\u001b[0m\u001b[1;33m)\u001b[0m\u001b[1;33m.\u001b[0m\u001b[0mapply\u001b[0m\u001b[1;33m(\u001b[0m\u001b[0mnp\u001b[0m\u001b[1;33m.\u001b[0m\u001b[0mceil\u001b[0m\u001b[1;33m)\u001b[0m\u001b[1;33m\u001b[0m\u001b[1;33m\u001b[0m\u001b[0m\n\u001b[1;32m---> 16\u001b[1;33m     \u001b[0mdf\u001b[0m \u001b[1;33m=\u001b[0m \u001b[0mpd\u001b[0m\u001b[1;33m.\u001b[0m\u001b[0mDataFrame\u001b[0m\u001b[1;33m(\u001b[0m\u001b[0mdf1\u001b[0m\u001b[1;33m)\u001b[0m\u001b[1;33m\u001b[0m\u001b[1;33m\u001b[0m\u001b[0m\n\u001b[0m\u001b[0;32m     17\u001b[0m     \u001b[0mdf\u001b[0m\u001b[1;33m.\u001b[0m\u001b[0mreset_index\u001b[0m\u001b[1;33m(\u001b[0m\u001b[0mlevel\u001b[0m\u001b[1;33m=\u001b[0m\u001b[1;36m0\u001b[0m\u001b[1;33m,\u001b[0m \u001b[0minplace\u001b[0m\u001b[1;33m=\u001b[0m\u001b[1;32mTrue\u001b[0m\u001b[1;33m)\u001b[0m\u001b[1;33m\u001b[0m\u001b[1;33m\u001b[0m\u001b[0m\n\u001b[0;32m     18\u001b[0m \u001b[1;33m\u001b[0m\u001b[0m\n",
      "\u001b[1;31mNameError\u001b[0m: name 'df1' is not defined"
     ]
    }
   ],
   "source": [
    "# dataframe after computing payback period\n",
    "payback = breakeven(forecast,listings,15,5) # function call\n",
    "payback.head()"
   ]
  },
  {
   "cell_type": "code",
   "execution_count": null,
   "metadata": {},
   "outputs": [],
   "source": [
    "# dataframe after computing 5 year ROI\n",
    "roi = roi(forecast,listings,15,5) # function call\n",
    "roi.head()"
   ]
  },
  {
   "cell_type": "markdown",
   "metadata": {},
   "source": [
    "# Visualization"
   ]
  },
  {
   "cell_type": "code",
   "execution_count": null,
   "metadata": {},
   "outputs": [],
   "source": [
    "plt.grid(b=None)\n",
    "\n",
    "ordered_payback = payback.sort_values(by='Payback_period',ascending = False).reset_index(drop=True)\n",
    "my_range = range(1, len(ordered_payback.index) + 1)\n",
    "\n",
    "plt.hlines(y=my_range, xmin=0, xmax=ordered_payback['Payback_period'], color='skyblue') # plotting the horizontal line\n",
    "plt.plot(ordered_payback['Payback_period'], my_range, 'o', markersize=11) # plotting the marker\n",
    "\n",
    "# setting ticks and labels\n",
    "plt.yticks(ordered_payback.index+1, ordered_payback['zipcode'],fontsize=25)\n",
    "plt.xticks(fontsize=25)\n",
    "\n",
    "plt.title(\"Time to Break Even\", loc='center',fontsize=30)\n",
    "plt.xlabel('Payback period in Years',fontsize=25)\n",
    "plt.ylabel('Zipcode',fontsize=25)\n",
    "\n",
    "# drawing the average line\n",
    "plt.axvline(ordered_payback['Payback_period'].mean(), color='green', linewidth=2, linestyle =\"--\")\n",
    "\n",
    "# setting the legend\n",
    "l = ['Payback period','Mean Payback period']\n",
    "plt.legend(l, fontsize = 'large', loc=1)\n",
    "\n",
    "plt.show()"
   ]
  },
  {
   "cell_type": "code",
   "execution_count": null,
   "metadata": {},
   "outputs": [],
   "source": [
    "plt.grid(b=None) # setting the background to white\n",
    "\n",
    "# plotting the scatter plot\n",
    "sns.scatterplot(x=payback['Payback_period'], y=payback['count'], hue=payback['zipcode'], s=100)\n",
    "\n",
    "annotate_scatterplot(payback.Payback_period, payback['count'], payback.zipcode, plt.gca()) # function call\n",
    "\n",
    "# setting ticks and labels\n",
    "plt.xticks(fontsize=25)\n",
    "plt.yticks(fontsize=25)\n",
    "\n",
    "plt.title(\"Payback Period vs No of listings\", loc='center',fontsize=30)\n",
    "plt.xlabel('Payback period in Years',fontsize=25)\n",
    "plt.ylabel('No of listings',fontsize=25)\n",
    "plt.legend(fontsize='xx-large')"
   ]
  },
  {
   "cell_type": "markdown",
   "metadata": {},
   "source": [
    "## Based on Payback Period: \n",
    "\n",
    "## Focus on zipcodes 10036, 10022, 11231."
   ]
  },
  {
   "cell_type": "code",
   "execution_count": null,
   "metadata": {},
   "outputs": [],
   "source": [
    "plt.grid(b=None)\n",
    "\n",
    "ordered_df = roi.sort_values(by='ROI').reset_index(drop=True)\n",
    "my_range = range(1, len(ordered_df.index) + 1)\n",
    "\n",
    "plt.hlines(y=my_range, xmin=0, xmax=ordered_df['ROI'], color='skyblue') # plotting the horizontal line\n",
    "plt.plot(ordered_df['ROI'], my_range, 'o', markersize=11) # plotting the marker\n",
    "\n",
    "# setting ticks and label\n",
    "plt.yticks(ordered_df.index+1, ordered_df['zipcode'],fontsize=25)\n",
    "plt.xticks(fontsize=25)\n",
    "\n",
    "plt.title(\"ROI by Zipcode\", loc='center',fontsize=30)\n",
    "plt.xlabel('ROI %',fontsize=25)\n",
    "plt.ylabel('Zipcode',fontsize=25)\n",
    "\n",
    "# drawing the mean line\n",
    "plt.axvline(ordered_df['ROI'].mean(), color='green', linewidth=2, linestyle =\"--\")\n",
    "\n",
    "# setting legend\n",
    "leg = ['ROI','ROI Mean']\n",
    "plt.legend(leg, fontsize = 'large', loc=4)\n",
    "\n",
    "plt.show()"
   ]
  },
  {
   "cell_type": "code",
   "execution_count": null,
   "metadata": {},
   "outputs": [],
   "source": [
    "plt.grid(b=None)\n",
    "\n",
    "sns.scatterplot(x=roi['ROI'], y=roi['count'], hue=roi['zipcode'], s=100) # scatter plot\n",
    "\n",
    "annotate_scatterplot(roi.ROI, roi['count'], roi.zipcode, plt.gca()) # function call\n",
    "\n",
    "# setting ticks and labels\n",
    "plt.xticks(fontsize=25)\n",
    "plt.yticks(fontsize=25)\n",
    "\n",
    "plt.title(\"No of listings vs 5 year ROI\", loc='center',fontsize=30)\n",
    "plt.xlabel('ROI %',fontsize=25)\n",
    "plt.ylabel('No of Listings',fontsize=25)\n",
    "plt.legend(fontsize='xx-large')"
   ]
  },
  {
   "cell_type": "markdown",
   "metadata": {},
   "source": [
    "## Based on 5 year ROI: \n",
    "\n",
    "## Focus on zipcodes 10028, 11231, 10128."
   ]
  },
  {
   "attachments": {},
   "cell_type": "markdown",
   "metadata": {},
   "source": [
    "# Future Steps\n",
    "\n",
    "1. Square footage information will help us understand price better.98% listings missing square footage information\n",
    "   Next step : Richer data or extrapolation using ML techniques\n",
    "\n",
    "2. Weekly prices and multi-day bookings not incorporated in analysis\n",
    "\n",
    "3. Only 24 New York zip codes in Zillow data restricting analysis \n",
    "\n",
    "4. Prices taken based on a single point in time. Historical price data will help analyze price trends\n",
    "\n",
    "5. Queens and Staten Island (less listings) -Social media analysis to understand true demand!"
   ]
  },
  {
   "cell_type": "code",
   "execution_count": null,
   "metadata": {},
   "outputs": [],
   "source": []
  }
 ],
 "metadata": {
  "kernelspec": {
   "display_name": "Python 3",
   "language": "python",
   "name": "python3"
  },
  "language_info": {
   "codemirror_mode": {
    "name": "ipython",
    "version": 3
   },
   "file_extension": ".py",
   "mimetype": "text/x-python",
   "name": "python",
   "nbconvert_exporter": "python",
   "pygments_lexer": "ipython3",
   "version": "3.8.5"
  }
 },
 "nbformat": 4,
 "nbformat_minor": 4
}
